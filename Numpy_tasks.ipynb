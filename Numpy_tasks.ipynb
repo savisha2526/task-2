{
  "cells": [
    {
      "cell_type": "markdown",
      "metadata": {
        "id": "view-in-github",
        "colab_type": "text"
      },
      "source": [
        "<a href=\"https://colab.research.google.com/github/savisha2526/task-2/blob/main/Numpy_tasks.ipynb\" target=\"_parent\"><img src=\"https://colab.research.google.com/assets/colab-badge.svg\" alt=\"Open In Colab\"/></a>"
      ]
    },
    {
      "cell_type": "markdown",
      "metadata": {
        "id": "3Zqd5CDIFbf2"
      },
      "source": [
        "# Numpy\n",
        "\n"
      ]
    },
    {
      "cell_type": "markdown",
      "metadata": {
        "id": "DPoZrULSFbgC"
      },
      "source": [
        "#### 1. Import the numpy package under the name `np` (★☆☆) \n",
        "(**hint**: import … as …)"
      ]
    },
    {
      "cell_type": "code",
      "execution_count": null,
      "metadata": {
        "collapsed": true,
        "id": "7qqxuPkhFbgE"
      },
      "outputs": [],
      "source": [
        "import numpy as np"
      ]
    },
    {
      "cell_type": "markdown",
      "metadata": {
        "id": "npvcgBfaFbgG"
      },
      "source": [
        "#### 2. Print the numpy version and the configuration (★☆☆) \n",
        "(**hint**: np.\\_\\_version\\_\\_, np.show\\_config)"
      ]
    },
    {
      "cell_type": "code",
      "execution_count": null,
      "metadata": {
        "id": "HVt7vl0hFbgH",
        "colab": {
          "base_uri": "https://localhost:8080/"
        },
        "outputId": "5a606a1c-959c-4571-d403-0ef5dee9dbfb"
      },
      "outputs": [
        {
          "output_type": "stream",
          "name": "stdout",
          "text": [
            "1.21.6\n",
            "blas_mkl_info:\n",
            "  NOT AVAILABLE\n",
            "blis_info:\n",
            "  NOT AVAILABLE\n",
            "openblas_info:\n",
            "    libraries = ['openblas', 'openblas']\n",
            "    library_dirs = ['/usr/local/lib']\n",
            "    language = c\n",
            "    define_macros = [('HAVE_CBLAS', None)]\n",
            "    runtime_library_dirs = ['/usr/local/lib']\n",
            "blas_opt_info:\n",
            "    libraries = ['openblas', 'openblas']\n",
            "    library_dirs = ['/usr/local/lib']\n",
            "    language = c\n",
            "    define_macros = [('HAVE_CBLAS', None)]\n",
            "    runtime_library_dirs = ['/usr/local/lib']\n",
            "lapack_mkl_info:\n",
            "  NOT AVAILABLE\n",
            "openblas_lapack_info:\n",
            "    libraries = ['openblas', 'openblas']\n",
            "    library_dirs = ['/usr/local/lib']\n",
            "    language = c\n",
            "    define_macros = [('HAVE_CBLAS', None)]\n",
            "    runtime_library_dirs = ['/usr/local/lib']\n",
            "lapack_opt_info:\n",
            "    libraries = ['openblas', 'openblas']\n",
            "    library_dirs = ['/usr/local/lib']\n",
            "    language = c\n",
            "    define_macros = [('HAVE_CBLAS', None)]\n",
            "    runtime_library_dirs = ['/usr/local/lib']\n",
            "Supported SIMD extensions in this NumPy install:\n",
            "    baseline = SSE,SSE2,SSE3\n",
            "    found = SSSE3,SSE41,POPCNT,SSE42,AVX,F16C,FMA3,AVX2\n",
            "    not found = AVX512F,AVX512CD,AVX512_KNL,AVX512_KNM,AVX512_SKX,AVX512_CLX,AVX512_CNL,AVX512_ICL\n"
          ]
        }
      ],
      "source": [
        "print(np.__version__)\n",
        "\n",
        "np.show_config()"
      ]
    },
    {
      "cell_type": "markdown",
      "metadata": {
        "id": "4QzGw6nXFbgI"
      },
      "source": [
        "#### 3. Create a null vector of size 10 (★☆☆) \n",
        "(**hint**: np.zeros)"
      ]
    },
    {
      "cell_type": "code",
      "execution_count": null,
      "metadata": {
        "id": "bw5umoPTFbgJ",
        "colab": {
          "base_uri": "https://localhost:8080/"
        },
        "outputId": "41a69547-afd8-4946-9e68-5635c9bc1f10"
      },
      "outputs": [
        {
          "output_type": "stream",
          "name": "stdout",
          "text": [
            "[0. 0. 0. 0. 0. 0. 0. 0. 0. 0.]\n"
          ]
        }
      ],
      "source": [
        "Z = np.zeros(10)\n",
        "\n",
        "print(Z)"
      ]
    },
    {
      "cell_type": "markdown",
      "metadata": {
        "id": "CtXbFtKnFbgL"
      },
      "source": [
        "#### 4.  How to find the memory size of any array (★☆☆) \n",
        "(**hint**: size, itemsize)"
      ]
    },
    {
      "cell_type": "code",
      "execution_count": null,
      "metadata": {
        "id": "THSA6IhRFbgN",
        "colab": {
          "base_uri": "https://localhost:8080/"
        },
        "outputId": "4dfeaafe-65ca-4bc6-c36a-074d1815dd21"
      },
      "outputs": [
        {
          "output_type": "stream",
          "name": "stdout",
          "text": [
            "800 bytes\n"
          ]
        }
      ],
      "source": [
        "Z = np.zeros((10,10))\n",
        "\n",
        "print(\"%d bytes\" % (Z.size * Z.itemsize))"
      ]
    },
    {
      "cell_type": "markdown",
      "metadata": {
        "id": "16AJC9H1FbgO"
      },
      "source": [
        "#### 5.  How to get the documentation of the numpy add function from the command line? (★☆☆) \n",
        "(**hint**: np.info)"
      ]
    },
    {
      "cell_type": "code",
      "execution_count": null,
      "metadata": {
        "collapsed": true,
        "id": "MddDlachFbgQ",
        "colab": {
          "base_uri": "https://localhost:8080/"
        },
        "outputId": "a0c777ee-b9a0-42ac-ac17-3e4536a05ebe"
      },
      "outputs": [
        {
          "output_type": "stream",
          "name": "stderr",
          "text": [
            "ERROR:root:File `'`python.py'` not found.\n"
          ]
        }
      ],
      "source": [
        "%run `python -c \"import numpy; http://numpy.info(numpy.add)\"`"
      ]
    },
    {
      "cell_type": "markdown",
      "metadata": {
        "id": "tVG1YYV5FbgR"
      },
      "source": [
        "#### 6.  Create a null vector of size 10 but the fifth value which is 1 (★☆☆) \n",
        "(**hint**: array\\[4\\])"
      ]
    },
    {
      "cell_type": "code",
      "execution_count": null,
      "metadata": {
        "id": "GJHCKDuuFbgS",
        "colab": {
          "base_uri": "https://localhost:8080/"
        },
        "outputId": "32121c49-1612-44c6-a31d-779f4dae0acd"
      },
      "outputs": [
        {
          "output_type": "stream",
          "name": "stdout",
          "text": [
            "[0. 0. 0. 0. 1. 0. 0. 0. 0. 0.]\n"
          ]
        }
      ],
      "source": [
        "Z = np.zeros(10)\n",
        "\n",
        "Z[4] = 1\n",
        "\n",
        "print(Z)"
      ]
    },
    {
      "cell_type": "markdown",
      "metadata": {
        "id": "B_P7P5TQFbgS"
      },
      "source": [
        "#### 7.  Create a vector with values ranging from 10 to 49 (★☆☆) \n",
        "(**hint**: np.arange)"
      ]
    },
    {
      "cell_type": "code",
      "execution_count": null,
      "metadata": {
        "id": "1R8KKfjgFbgT",
        "colab": {
          "base_uri": "https://localhost:8080/"
        },
        "outputId": "2629cec1-538b-4781-9244-65af6d7b81e3"
      },
      "outputs": [
        {
          "output_type": "stream",
          "name": "stdout",
          "text": [
            "[10 11 12 13 14 15 16 17 18 19 20 21 22 23 24 25 26 27 28 29 30 31 32 33\n",
            " 34 35 36 37 38 39 40 41 42 43 44 45 46 47 48 49]\n"
          ]
        }
      ],
      "source": [
        "Z = np.arange(10,50)\n",
        "\n",
        "print(Z)"
      ]
    },
    {
      "cell_type": "markdown",
      "metadata": {
        "id": "-7iEGWGUFbgU"
      },
      "source": [
        "#### 8.  Reverse a vector (first element becomes last) (★☆☆) \n",
        "(**hint**: array\\[::-1\\])"
      ]
    },
    {
      "cell_type": "code",
      "execution_count": null,
      "metadata": {
        "id": "GSdudrrNFbgV",
        "colab": {
          "base_uri": "https://localhost:8080/"
        },
        "outputId": "74e6e4f6-4cd9-4899-8ec9-b5b592c701bf"
      },
      "outputs": [
        {
          "output_type": "stream",
          "name": "stdout",
          "text": [
            "[49 48 47 46 45 44 43 42 41 40 39 38 37 36 35 34 33 32 31 30 29 28 27 26\n",
            " 25 24 23 22 21 20 19 18 17 16 15 14 13 12 11 10  9  8  7  6  5  4  3  2\n",
            "  1  0]\n"
          ]
        }
      ],
      "source": [
        "Z = np.arange(50)\n",
        "\n",
        "Z = Z[::-1]\n",
        "\n",
        "print(Z)"
      ]
    },
    {
      "cell_type": "markdown",
      "metadata": {
        "id": "QNNnjnvEFbgV"
      },
      "source": [
        "#### 9.  Create a 3x3 matrix with values ranging from 0 to 8 (★☆☆) \n",
        "(**hint**: reshape)"
      ]
    },
    {
      "cell_type": "code",
      "execution_count": null,
      "metadata": {
        "id": "0nWoV8q-FbgW",
        "colab": {
          "base_uri": "https://localhost:8080/"
        },
        "outputId": "87d94e00-68f3-46f9-dd09-78c5a93b9086"
      },
      "outputs": [
        {
          "output_type": "stream",
          "name": "stdout",
          "text": [
            "[[0 1 2]\n",
            " [3 4 5]\n",
            " [6 7 8]]\n"
          ]
        }
      ],
      "source": [
        "Z = np.arange(9).reshape(3,3)\n",
        "\n",
        "print(Z)"
      ]
    },
    {
      "cell_type": "markdown",
      "metadata": {
        "id": "CmhaUAgCFbgX"
      },
      "source": [
        "#### 10. Find indices of non-zero elements from \\[1,2,0,0,4,0\\] (★☆☆) \n",
        "(**hint**: np.nonzero)"
      ]
    },
    {
      "cell_type": "code",
      "execution_count": null,
      "metadata": {
        "id": "eTqc6A4pFbgX",
        "colab": {
          "base_uri": "https://localhost:8080/"
        },
        "outputId": "18d85c3a-c3d3-4c65-c93c-2cb1017a5d85"
      },
      "outputs": [
        {
          "output_type": "stream",
          "name": "stdout",
          "text": [
            "(array([0, 1, 4]),)\n"
          ]
        }
      ],
      "source": [
        "nz = np.nonzero([1,2,0,0,4,0])\n",
        "\n",
        "print(nz)"
      ]
    },
    {
      "cell_type": "markdown",
      "metadata": {
        "id": "XNs6EES2FbgY"
      },
      "source": [
        "#### 11. Create a 3x3 identity matrix (★☆☆) \n",
        "(**hint**: np.eye)"
      ]
    },
    {
      "cell_type": "code",
      "execution_count": null,
      "metadata": {
        "id": "_usGMwc2FbgZ",
        "colab": {
          "base_uri": "https://localhost:8080/"
        },
        "outputId": "d63566eb-db30-483f-ab3b-695c3a12ba09"
      },
      "outputs": [
        {
          "output_type": "stream",
          "name": "stdout",
          "text": [
            "[[1. 0. 0.]\n",
            " [0. 1. 0.]\n",
            " [0. 0. 1.]]\n"
          ]
        }
      ],
      "source": [
        "Z = np.eye(3)\n",
        "\n",
        "print(Z)"
      ]
    },
    {
      "cell_type": "markdown",
      "metadata": {
        "id": "1bCZUj7FFbgZ"
      },
      "source": [
        "#### 12. Create a 3x3x3 array with random values (★☆☆) \n",
        "(**hint**: np.random.random)"
      ]
    },
    {
      "cell_type": "code",
      "execution_count": null,
      "metadata": {
        "collapsed": true,
        "id": "Xj4-rp9FFbga",
        "colab": {
          "base_uri": "https://localhost:8080/"
        },
        "outputId": "7d1b588a-3210-44c9-846a-015cd628296b"
      },
      "outputs": [
        {
          "output_type": "stream",
          "name": "stdout",
          "text": [
            "[[[0.11306504 0.18884707 0.8539544 ]\n",
            "  [0.61127134 0.79905728 0.06835833]\n",
            "  [0.71752539 0.96509654 0.85791863]]\n",
            "\n",
            " [[0.78317369 0.37902207 0.50724245]\n",
            "  [0.16326303 0.73808751 0.43040461]\n",
            "  [0.49549    0.90875527 0.07539139]]\n",
            "\n",
            " [[0.85669993 0.12722906 0.61721105]\n",
            "  [0.72288856 0.93867982 0.77933889]\n",
            "  [0.85557085 0.16178583 0.43871325]]]\n"
          ]
        }
      ],
      "source": [
        "Z = np.random.random((3,3,3))\n",
        "\n",
        "print(Z)"
      ]
    },
    {
      "cell_type": "markdown",
      "metadata": {
        "id": "XwChA7UdFbga"
      },
      "source": [
        "#### 13. Create a 10x10 array with random values and find the minimum and maximum values (★☆☆) \n",
        "(**hint**: min, max)"
      ]
    },
    {
      "cell_type": "code",
      "execution_count": null,
      "metadata": {
        "id": "2sLIThfzFbga",
        "colab": {
          "base_uri": "https://localhost:8080/"
        },
        "outputId": "26a2b3ea-b933-404b-93ff-99a3dbc484db"
      },
      "outputs": [
        {
          "output_type": "stream",
          "name": "stdout",
          "text": [
            "0.0010380218846266498 0.9979099057557768\n"
          ]
        }
      ],
      "source": [
        "Z = np.random.random((10,10))\n",
        "\n",
        "Zmin, Zmax = Z.min(), Z.max()\n",
        "\n",
        "print(Zmin, Zmax)"
      ]
    },
    {
      "cell_type": "markdown",
      "metadata": {
        "id": "lsI2fdALFbgb"
      },
      "source": [
        "#### 14. Create a random vector of size 30 and find the mean value (★☆☆) \n",
        "(**hint**: mean)"
      ]
    },
    {
      "cell_type": "code",
      "execution_count": null,
      "metadata": {
        "id": "mCqbGG9tFbgb",
        "colab": {
          "base_uri": "https://localhost:8080/"
        },
        "outputId": "06c885ee-21a5-4604-aeef-22cc07f25d2f"
      },
      "outputs": [
        {
          "output_type": "stream",
          "name": "stdout",
          "text": [
            "0.4872292580843638\n"
          ]
        }
      ],
      "source": [
        "Z = np.random.random(30)\n",
        "\n",
        "m = Z.mean()\n",
        "\n",
        "print(m)"
      ]
    },
    {
      "cell_type": "markdown",
      "metadata": {
        "id": "oalfKHOfFbgc"
      },
      "source": [
        "#### 15. Create a 2d array with 1 on the border and 0 inside (★☆☆) \n",
        "(**hint**: array\\[1:-1, 1:-1\\])"
      ]
    },
    {
      "cell_type": "code",
      "execution_count": null,
      "metadata": {
        "id": "Ges3Q7kYFbgc",
        "colab": {
          "base_uri": "https://localhost:8080/"
        },
        "outputId": "a3902b9a-7cef-4687-9017-0a735893c7c4"
      },
      "outputs": [
        {
          "output_type": "stream",
          "name": "stdout",
          "text": [
            "[[1. 1. 1. 1. 1. 1. 1. 1. 1. 1.]\n",
            " [1. 0. 0. 0. 0. 0. 0. 0. 0. 1.]\n",
            " [1. 0. 0. 0. 0. 0. 0. 0. 0. 1.]\n",
            " [1. 0. 0. 0. 0. 0. 0. 0. 0. 1.]\n",
            " [1. 0. 0. 0. 0. 0. 0. 0. 0. 1.]\n",
            " [1. 0. 0. 0. 0. 0. 0. 0. 0. 1.]\n",
            " [1. 0. 0. 0. 0. 0. 0. 0. 0. 1.]\n",
            " [1. 0. 0. 0. 0. 0. 0. 0. 0. 1.]\n",
            " [1. 0. 0. 0. 0. 0. 0. 0. 0. 1.]\n",
            " [1. 1. 1. 1. 1. 1. 1. 1. 1. 1.]]\n"
          ]
        }
      ],
      "source": [
        "Z = np.ones((10,10))\n",
        "\n",
        "Z[1:-1,1:-1] = 0\n",
        "\n",
        "print(Z)"
      ]
    },
    {
      "cell_type": "markdown",
      "metadata": {
        "id": "B9qwwFDdFbgd"
      },
      "source": [
        "#### 16. How to add a border (filled with 0's) around an existing array? (★☆☆) \n",
        "(**hint**: np.pad)"
      ]
    },
    {
      "cell_type": "code",
      "execution_count": null,
      "metadata": {
        "id": "RqJ_Ynm6Fbge",
        "colab": {
          "base_uri": "https://localhost:8080/"
        },
        "outputId": "6323c8cf-8252-4abe-a7d5-05a4dcb20dae"
      },
      "outputs": [
        {
          "output_type": "stream",
          "name": "stdout",
          "text": [
            "[[0. 0. 0. 0. 0. 0. 0.]\n",
            " [0. 1. 1. 1. 1. 1. 0.]\n",
            " [0. 1. 1. 1. 1. 1. 0.]\n",
            " [0. 1. 1. 1. 1. 1. 0.]\n",
            " [0. 1. 1. 1. 1. 1. 0.]\n",
            " [0. 1. 1. 1. 1. 1. 0.]\n",
            " [0. 0. 0. 0. 0. 0. 0.]]\n"
          ]
        }
      ],
      "source": [
        "Z = np.ones((5,5))\n",
        "\n",
        "Z = np.pad(Z, pad_width=1, mode='constant', constant_values=0)\n",
        "\n",
        "print(Z)"
      ]
    },
    {
      "cell_type": "markdown",
      "metadata": {
        "id": "TZm-bLgEFbgf"
      },
      "source": [
        "#### 17. What is the result of the following expression? (★☆☆) \n",
        "(**hint**: NaN = not a number, inf = infinity)"
      ]
    },
    {
      "cell_type": "markdown",
      "metadata": {
        "id": "HXnZxEORFbgf"
      },
      "source": [
        "```python\n",
        "0 * np.nan\n",
        "np.nan == np.nan\n",
        "np.inf > np.nan\n",
        "np.nan - np.nan\n",
        "0.3 == 3 * 0.1\n",
        "```"
      ]
    },
    {
      "cell_type": "code",
      "execution_count": null,
      "metadata": {
        "id": "73rbe113Fbgg",
        "colab": {
          "base_uri": "https://localhost:8080/"
        },
        "outputId": "29af43a0-72d4-4151-bd7e-d687f545fc03"
      },
      "outputs": [
        {
          "output_type": "stream",
          "name": "stdout",
          "text": [
            "nan\n",
            "False\n",
            "False\n",
            "nan\n",
            "False\n"
          ]
        }
      ],
      "source": [
        "print(0 * np.nan)\n",
        "\n",
        "print(np.nan == np.nan)\n",
        "\n",
        "print(np.inf > np.nan)\n",
        "\n",
        "print(np.nan - np.nan)\n",
        "\n",
        "print(0.3 == 3 * 0.1)"
      ]
    },
    {
      "cell_type": "markdown",
      "metadata": {
        "id": "rWWedUmYFbgh"
      },
      "source": [
        "#### 18. Create a 5x5 matrix with values 1,2,3,4 just below the diagonal (★☆☆) \n",
        "(**hint**: np.diag)"
      ]
    },
    {
      "cell_type": "code",
      "execution_count": null,
      "metadata": {
        "id": "85aQt-5cFbgh",
        "colab": {
          "base_uri": "https://localhost:8080/"
        },
        "outputId": "c59f3fe8-a95b-463e-9764-12435554c636"
      },
      "outputs": [
        {
          "output_type": "stream",
          "name": "stdout",
          "text": [
            "[[0 0 0 0 0]\n",
            " [1 0 0 0 0]\n",
            " [0 2 0 0 0]\n",
            " [0 0 3 0 0]\n",
            " [0 0 0 4 0]]\n"
          ]
        }
      ],
      "source": [
        "Z = np.diag(1+np.arange(4),k=-1)\n",
        "\n",
        "print(Z)"
      ]
    },
    {
      "cell_type": "markdown",
      "metadata": {
        "id": "oSMpH1KUFbgi"
      },
      "source": [
        "#### 19. Create a 8x8 matrix and fill it with a checkerboard pattern (★☆☆) \n",
        "(**hint**: array\\[::2\\])"
      ]
    },
    {
      "cell_type": "code",
      "execution_count": null,
      "metadata": {
        "id": "1j7IpjKqFbgi",
        "colab": {
          "base_uri": "https://localhost:8080/"
        },
        "outputId": "2ede07af-a5b1-46a7-b6a7-c0f98f8e5d2a"
      },
      "outputs": [
        {
          "output_type": "stream",
          "name": "stdout",
          "text": [
            "[[0 1 0 1 0 1 0 1]\n",
            " [1 0 1 0 1 0 1 0]\n",
            " [0 1 0 1 0 1 0 1]\n",
            " [1 0 1 0 1 0 1 0]\n",
            " [0 1 0 1 0 1 0 1]\n",
            " [1 0 1 0 1 0 1 0]\n",
            " [0 1 0 1 0 1 0 1]\n",
            " [1 0 1 0 1 0 1 0]]\n"
          ]
        }
      ],
      "source": [
        "Z = np.zeros((8,8),dtype=int)\n",
        "\n",
        "Z[1::2,::2] = 1\n",
        "\n",
        "Z[::2,1::2] = 1\n",
        "\n",
        "print(Z)"
      ]
    },
    {
      "cell_type": "markdown",
      "metadata": {
        "id": "QLwsOnHZFbgj"
      },
      "source": [
        "#### 20. Consider a (6,7,8) shape array, what is the index (x,y,z) of the 100th element? \n",
        "(**hint**: np.unravel_index)"
      ]
    },
    {
      "cell_type": "code",
      "execution_count": null,
      "metadata": {
        "id": "eU7ecOu8Fbgk",
        "colab": {
          "base_uri": "https://localhost:8080/"
        },
        "outputId": "4f1ee901-acba-4f7d-c728-6c7197b2015b"
      },
      "outputs": [
        {
          "output_type": "stream",
          "name": "stdout",
          "text": [
            "(1, 5, 4)\n"
          ]
        }
      ],
      "source": [
        "print(np.unravel_index(100,(6,7,8)))"
      ]
    },
    {
      "cell_type": "markdown",
      "metadata": {
        "id": "6Eb5UzKTFbgk"
      },
      "source": [
        "#### 21. Create a checkerboard 8x8 matrix using the tile function (★☆☆) \n",
        "(**hint**: np.tile)"
      ]
    },
    {
      "cell_type": "code",
      "execution_count": null,
      "metadata": {
        "id": "UV_TrT1oFbgl",
        "colab": {
          "base_uri": "https://localhost:8080/"
        },
        "outputId": "a706677e-69d2-42ae-bd3e-6f36618599ee"
      },
      "outputs": [
        {
          "output_type": "stream",
          "name": "stdout",
          "text": [
            "[[0 1 0 1 0 1 0 1]\n",
            " [1 0 1 0 1 0 1 0]\n",
            " [0 1 0 1 0 1 0 1]\n",
            " [1 0 1 0 1 0 1 0]\n",
            " [0 1 0 1 0 1 0 1]\n",
            " [1 0 1 0 1 0 1 0]\n",
            " [0 1 0 1 0 1 0 1]\n",
            " [1 0 1 0 1 0 1 0]]\n"
          ]
        }
      ],
      "source": [
        "Z = np.tile( np.array([[0,1],[1,0]]), (4,4))\n",
        "\n",
        "print(Z)"
      ]
    },
    {
      "cell_type": "markdown",
      "metadata": {
        "id": "9-QXxc4jFbgl"
      },
      "source": [
        "#### 22. Normalize a 5x5 random matrix (★☆☆) \n",
        "(**hint**: (x - min) / (max - min))"
      ]
    },
    {
      "cell_type": "code",
      "execution_count": null,
      "metadata": {
        "id": "dCV_NF9gFbgl",
        "colab": {
          "base_uri": "https://localhost:8080/"
        },
        "outputId": "6f09d7e2-05cd-4a8f-de63-2809d37fd19e"
      },
      "outputs": [
        {
          "output_type": "stream",
          "name": "stdout",
          "text": [
            "[[0.34541989 0.06480379 0.         0.9810557  0.32785993]\n",
            " [0.86123432 1.         0.74923279 0.30338281 0.1431745 ]\n",
            " [0.38497221 0.32698399 0.74806499 0.383611   0.07447936]\n",
            " [0.36416174 0.724073   0.4170228  0.9238688  0.31297542]\n",
            " [0.8554196  0.296691   0.56600373 0.81856602 0.54769996]]\n"
          ]
        }
      ],
      "source": [
        "Z = np.random.random((5,5))\n",
        "\n",
        "Zmax, Zmin = Z.max(), Z.min()\n",
        "\n",
        "Z = (Z - Zmin)/(Zmax - Zmin)\n",
        "\n",
        "print(Z)"
      ]
    },
    {
      "cell_type": "markdown",
      "metadata": {
        "id": "HRts_DRIFbgm"
      },
      "source": [
        "#### 23. Create a custom dtype that describes a color as four unsigned bytes (RGBA) (★☆☆) \n",
        "(**hint**: np.dtype)"
      ]
    },
    {
      "cell_type": "code",
      "execution_count": null,
      "metadata": {
        "collapsed": true,
        "id": "tmXL9OvoFbgm",
        "colab": {
          "base_uri": "https://localhost:8080/"
        },
        "outputId": "1c19c5de-41be-401c-d49e-c9441a5a6357"
      },
      "outputs": [
        {
          "output_type": "stream",
          "name": "stderr",
          "text": [
            "/usr/local/lib/python3.7/dist-packages/ipykernel_launcher.py:7: FutureWarning: Passing (type, 1) or '1type' as a synonym of type is deprecated; in a future version of numpy, it will be understood as (type, (1,)) / '(1,)type'.\n",
            "  import sys\n"
          ]
        }
      ],
      "source": [
        "color = np.dtype([(\"r\", np.ubyte, 1),\n",
        "\n",
        "(\"g\", np.ubyte, 1),\n",
        "\n",
        "(\"b\", np.ubyte, 1),\n",
        "\n",
        "(\"a\", np.ubyte, 1)])"
      ]
    },
    {
      "cell_type": "markdown",
      "metadata": {
        "id": "G3Y0tNvuFbgm"
      },
      "source": [
        "#### 24. Multiply a 5x3 matrix by a 3x2 matrix (real matrix product) (★☆☆) \n",
        "(**hint**: np.dot | @)"
      ]
    },
    {
      "cell_type": "code",
      "execution_count": null,
      "metadata": {
        "id": "TXXPTur_Fbgn"
      },
      "outputs": [],
      "source": [
        "Z = np.dot(np.ones((5,3)), np.ones((3,2)))\n",
        "\n",
        "print(Z)\n",
        "\n",
        "# Alternative solution, in Python 3.5 and above\n",
        "\n",
        "Z = np.ones((5,3)) @ np.ones((3,2))\n",
        "\n",
        "print(Z)"
      ]
    },
    {
      "cell_type": "markdown",
      "metadata": {
        "id": "jr81wQbAFbgn"
      },
      "source": [
        "#### 25. Given a 1D array, negate all elements which are between 3 and 8, in place. (★☆☆) \n",
        "(**hint**: >, <=)"
      ]
    },
    {
      "cell_type": "code",
      "execution_count": null,
      "metadata": {
        "id": "eDpxZuuXFbgo",
        "colab": {
          "base_uri": "https://localhost:8080/"
        },
        "outputId": "57b3771d-204e-46bf-ccab-04349f6d5ba2"
      },
      "outputs": [
        {
          "output_type": "stream",
          "name": "stdout",
          "text": [
            "[ 0  1  2  3 -4 -5 -6 -7 -8  9 10]\n"
          ]
        }
      ],
      "source": [
        "Z = np.arange(11)\n",
        "\n",
        "Z[(3 < Z) & (Z <= 8)] *= -1\n",
        "\n",
        "print(Z)"
      ]
    },
    {
      "cell_type": "markdown",
      "metadata": {
        "id": "2e2709VLFbgo"
      },
      "source": [
        "#### 26. What is the output of the following script? (★☆☆) \n",
        "(**hint**: np.sum)"
      ]
    },
    {
      "cell_type": "markdown",
      "metadata": {
        "id": "nwmP0CJAFbgo"
      },
      "source": [
        "```python\n",
        "# Author: Jake VanderPlas\n",
        "\n",
        "print(sum(range(5),-1))\n",
        "from numpy import *\n",
        "print(sum(range(5),-1))\n",
        "```"
      ]
    },
    {
      "cell_type": "code",
      "execution_count": null,
      "metadata": {
        "id": "q6-ijTXeFbgp",
        "colab": {
          "base_uri": "https://localhost:8080/"
        },
        "outputId": "72f5e437-f709-4462-dd10-9423850e9a6a"
      },
      "outputs": [
        {
          "output_type": "stream",
          "name": "stdout",
          "text": [
            "9\n",
            "10\n"
          ]
        }
      ],
      "source": [
        "print(sum(range(5),-1))\n",
        "\n",
        "from numpy import *\n",
        "\n",
        "print(sum(range(5),-1))"
      ]
    },
    {
      "cell_type": "markdown",
      "metadata": {
        "id": "xIOTn1e0Fbgp"
      },
      "source": [
        "#### 27. Consider an integer vector Z, which of these expressions are legal? (★☆☆)"
      ]
    },
    {
      "cell_type": "markdown",
      "metadata": {
        "id": "iOnum-y4Fbgq"
      },
      "source": [
        "```python\n",
        "Z**Z\n",
        "2 << Z >> 2\n",
        "Z <- Z\n",
        "1j*Z\n",
        "Z/1/1\n",
        "Z<Z>Z\n",
        "```"
      ]
    },
    {
      "cell_type": "code",
      "execution_count": null,
      "metadata": {
        "id": "zVuReScoFbgr",
        "colab": {
          "base_uri": "https://localhost:8080/",
          "height": 246
        },
        "outputId": "56650f98-2bc6-4791-db44-033fdbd5efac"
      },
      "outputs": [
        {
          "output_type": "error",
          "ename": "ValueError",
          "evalue": "ignored",
          "traceback": [
            "\u001b[0;31m---------------------------------------------------------------------------\u001b[0m",
            "\u001b[0;31mValueError\u001b[0m                                Traceback (most recent call last)",
            "\u001b[0;32m<ipython-input-26-cd0a9f110ba6>\u001b[0m in \u001b[0;36m<module>\u001b[0;34m\u001b[0m\n\u001b[0;32m----> 1\u001b[0;31m \u001b[0mZ\u001b[0m\u001b[0;34m**\u001b[0m\u001b[0mZ\u001b[0m\u001b[0;34m\u001b[0m\u001b[0;34m\u001b[0m\u001b[0m\n\u001b[0m\u001b[1;32m      2\u001b[0m \u001b[0;34m\u001b[0m\u001b[0m\n\u001b[1;32m      3\u001b[0m \u001b[0;36m2\u001b[0m \u001b[0;34m<<\u001b[0m \u001b[0mZ\u001b[0m \u001b[0;34m>>\u001b[0m \u001b[0;36m2\u001b[0m\u001b[0;34m\u001b[0m\u001b[0;34m\u001b[0m\u001b[0m\n\u001b[1;32m      4\u001b[0m \u001b[0;34m\u001b[0m\u001b[0m\n\u001b[1;32m      5\u001b[0m \u001b[0mZ\u001b[0m \u001b[0;34m<\u001b[0m\u001b[0;34m-\u001b[0m \u001b[0mZ\u001b[0m\u001b[0;34m\u001b[0m\u001b[0;34m\u001b[0m\u001b[0m\n",
            "\u001b[0;31mValueError\u001b[0m: Integers to negative integer powers are not allowed."
          ]
        }
      ],
      "source": [
        "Z**Z\n",
        "\n",
        "2 << Z >> 2\n",
        "\n",
        "Z <- Z\n",
        "\n",
        "1j*Z\n",
        "\n",
        "Z/1/1\n",
        "\n",
        "Z<Z>Z"
      ]
    },
    {
      "cell_type": "markdown",
      "metadata": {
        "id": "3vtWLdb-Fbgr"
      },
      "source": [
        "#### 28. What are the result of the following expressions?"
      ]
    },
    {
      "cell_type": "markdown",
      "metadata": {
        "id": "epP5QIchFbgs"
      },
      "source": [
        "```python\n",
        "np.array(0) / np.array(0)\n",
        "np.array(0) // np.array(0)\n",
        "np.array([np.nan]).astype(int).astype(float)\n",
        "```"
      ]
    },
    {
      "cell_type": "code",
      "execution_count": null,
      "metadata": {
        "id": "eG6hcHWiFbgs",
        "colab": {
          "base_uri": "https://localhost:8080/"
        },
        "outputId": "386e0be3-bae9-478f-8482-0ade4b7cc2ff"
      },
      "outputs": [
        {
          "output_type": "stream",
          "name": "stdout",
          "text": [
            "nan\n",
            "0\n",
            "[-9.22337204e+18]\n"
          ]
        },
        {
          "output_type": "stream",
          "name": "stderr",
          "text": [
            "/usr/local/lib/python3.7/dist-packages/ipykernel_launcher.py:1: RuntimeWarning: invalid value encountered in true_divide\n",
            "  \"\"\"Entry point for launching an IPython kernel.\n",
            "/usr/local/lib/python3.7/dist-packages/ipykernel_launcher.py:3: RuntimeWarning: divide by zero encountered in floor_divide\n",
            "  This is separate from the ipykernel package so we can avoid doing imports until\n"
          ]
        }
      ],
      "source": [
        "print(np.array(0) / np.array(0))\n",
        "\n",
        "print(np.array(0) // np.array(0))\n",
        "\n",
        "print(np.array([np.nan]).astype(int).astype(float))"
      ]
    },
    {
      "cell_type": "markdown",
      "metadata": {
        "id": "fbBpbR2kFbgt"
      },
      "source": [
        "#### 29. How to round away from zero a float array ? (★☆☆) \n",
        "(**hint**: np.uniform, np.copysign, np.ceil, np.abs)"
      ]
    },
    {
      "cell_type": "code",
      "execution_count": null,
      "metadata": {
        "id": "xfNu6S2RFbgu",
        "colab": {
          "base_uri": "https://localhost:8080/"
        },
        "outputId": "6e8c35de-c09b-4c30-d3a3-6ea34f966a95"
      },
      "outputs": [
        {
          "output_type": "stream",
          "name": "stdout",
          "text": [
            "[ 4.  4.  4.  5. -6.  3.  3.  8.  2.  8.]\n"
          ]
        }
      ],
      "source": [
        "Z = np.random.uniform(-10,+10,10)\n",
        "\n",
        "print (np.copysign(np.ceil(np.abs(Z)), Z))"
      ]
    },
    {
      "cell_type": "markdown",
      "metadata": {
        "id": "IsUFgqY_Fbgv"
      },
      "source": [
        "#### 30. How to find common values between two arrays? (★☆☆) \n",
        "(**hint**: np.intersect1d)"
      ]
    },
    {
      "cell_type": "code",
      "execution_count": null,
      "metadata": {
        "id": "HEGZNYnJFbgv",
        "colab": {
          "base_uri": "https://localhost:8080/"
        },
        "outputId": "28ac93b3-bd68-4725-a063-ad50b4c18ce8"
      },
      "outputs": [
        {
          "output_type": "stream",
          "name": "stdout",
          "text": [
            "[1 2 5 7]\n"
          ]
        }
      ],
      "source": [
        "Z1 = np.random.randint(0,10,10)\n",
        "\n",
        "Z2 = np.random.randint(0,10,10)\n",
        "\n",
        "print(np.intersect1d(Z1,Z2))"
      ]
    },
    {
      "cell_type": "markdown",
      "metadata": {
        "id": "QGLvYjQiFbgw"
      },
      "source": [
        "#### 31. How to ignore all numpy warnings (not recommended)? (★☆☆) \n",
        "(**hint**: np.seterr, np.errstate)"
      ]
    },
    {
      "cell_type": "code",
      "execution_count": null,
      "metadata": {
        "id": "YHaoYDgEFbgw"
      },
      "outputs": [],
      "source": [
        "defaults = np.seterr(all=\"ignore\")\n",
        "\n",
        "Z = np.ones(1) / 0\n"
      ]
    },
    {
      "cell_type": "markdown",
      "metadata": {
        "id": "uzzp-zZuFbgw"
      },
      "source": [
        "#### 32. Is the following expressions true? (★☆☆) \n",
        "(**hint**: imaginary number)"
      ]
    },
    {
      "cell_type": "markdown",
      "metadata": {
        "id": "diErsUybFbgx"
      },
      "source": [
        "```python\n",
        "np.sqrt(-1) == np.emath.sqrt(-1)\n",
        "```"
      ]
    },
    {
      "cell_type": "code",
      "execution_count": null,
      "metadata": {
        "id": "VHYY7JoQFbgx",
        "colab": {
          "base_uri": "https://localhost:8080/"
        },
        "outputId": "1ea6ca56-f8e6-44a4-de6e-856e61b5785e"
      },
      "outputs": [
        {
          "output_type": "execute_result",
          "data": {
            "text/plain": [
              "False"
            ]
          },
          "metadata": {},
          "execution_count": 34
        }
      ],
      "source": [
        "np.sqrt(-1) == np.emath.sqrt(-1)"
      ]
    },
    {
      "cell_type": "markdown",
      "metadata": {
        "id": "mdtSMUwYFbgy"
      },
      "source": [
        "#### 33. How to get the dates of yesterday, today and tomorrow? (★☆☆) \n",
        "(**hint**: np.datetime64, np.timedelta64)"
      ]
    },
    {
      "cell_type": "code",
      "execution_count": null,
      "metadata": {
        "collapsed": true,
        "id": "U_l45WUlFbgy"
      },
      "outputs": [],
      "source": [
        "yesterday = np.datetime64('today', 'D') - np.timedelta64(1, 'D')\n",
        "\n",
        "today = np.datetime64('today', 'D')\n",
        "\n",
        "tomorrow = np.datetime64('today', 'D') + np.timedelta64(1, 'D')"
      ]
    },
    {
      "cell_type": "markdown",
      "metadata": {
        "id": "XQh60tcxFbgy"
      },
      "source": [
        "#### 34. How to get all the dates corresponding to the month of July 2016? (★★☆) \n",
        "(**hint**: np.arange(dtype=datetime64\\['D'\\]))"
      ]
    },
    {
      "cell_type": "code",
      "execution_count": null,
      "metadata": {
        "id": "PX4ShaIGFbgz",
        "colab": {
          "base_uri": "https://localhost:8080/"
        },
        "outputId": "41197d20-4cb8-44b2-b8be-c7547a4b9618"
      },
      "outputs": [
        {
          "output_type": "stream",
          "name": "stdout",
          "text": [
            "['2016-07-01' '2016-07-02' '2016-07-03' '2016-07-04' '2016-07-05'\n",
            " '2016-07-06' '2016-07-07' '2016-07-08' '2016-07-09' '2016-07-10'\n",
            " '2016-07-11' '2016-07-12' '2016-07-13' '2016-07-14' '2016-07-15'\n",
            " '2016-07-16' '2016-07-17' '2016-07-18' '2016-07-19' '2016-07-20'\n",
            " '2016-07-21' '2016-07-22' '2016-07-23' '2016-07-24' '2016-07-25'\n",
            " '2016-07-26' '2016-07-27' '2016-07-28' '2016-07-29' '2016-07-30'\n",
            " '2016-07-31']\n"
          ]
        }
      ],
      "source": [
        "Z = np.arange('2016-07', '2016-08', dtype='datetime64[D]')\n",
        "\n",
        "print(Z)"
      ]
    },
    {
      "cell_type": "markdown",
      "metadata": {
        "id": "42l__ogtFbgz"
      },
      "source": [
        "#### 35. How to compute ((A+B)\\*(-A/2)) in place (without copy)? (★★☆) \n",
        "(**hint**: np.add(out=), np.negative(out=), np.multiply(out=), np.divide(out=))"
      ]
    },
    {
      "cell_type": "code",
      "execution_count": null,
      "metadata": {
        "id": "7rqWHUqoFbg0",
        "colab": {
          "base_uri": "https://localhost:8080/"
        },
        "outputId": "5d2037b0-46f5-4e38-a1a2-28e297d2b47f"
      },
      "outputs": [
        {
          "output_type": "execute_result",
          "data": {
            "text/plain": [
              "array([-1.5, -1.5, -1.5])"
            ]
          },
          "metadata": {},
          "execution_count": 38
        }
      ],
      "source": [
        "A = np.ones(3)*1\n",
        "\n",
        "B = np.ones(3)*2\n",
        "\n",
        "C = np.ones(3)*3\n",
        "\n",
        "np.add(A,B,out=B)\n",
        "\n",
        "np.divide(A,2,out=A)\n",
        "\n",
        "np.negative(A,out=A)\n",
        "\n",
        "np.multiply(A,B,out=A)"
      ]
    },
    {
      "cell_type": "markdown",
      "metadata": {
        "id": "qLIkmyDjFbg0"
      },
      "source": [
        "#### 36. Extract the integer part of a random array using 5 different methods (★★☆) \n",
        "(**hint**: %, np.floor, np.ceil, astype, np.trunc)"
      ]
    },
    {
      "cell_type": "code",
      "execution_count": null,
      "metadata": {
        "id": "D1PldLe8Fbg1",
        "colab": {
          "base_uri": "https://localhost:8080/"
        },
        "outputId": "2febeaed-4a71-4a1c-efc6-36c7d42a4c27"
      },
      "outputs": [
        {
          "output_type": "stream",
          "name": "stdout",
          "text": [
            "[4. 5. 1. 4. 0. 0. 6. 7. 2. 6.]\n",
            "[4. 5. 1. 4. 0. 0. 6. 7. 2. 6.]\n",
            "[4. 5. 1. 4. 0. 0. 6. 7. 2. 6.]\n",
            "[4 5 1 4 0 0 6 7 2 6]\n",
            "[4. 5. 1. 4. 0. 0. 6. 7. 2. 6.]\n"
          ]
        }
      ],
      "source": [
        "Z = np.random.uniform(0,10,10)\n",
        "\n",
        "print (Z - Z%1)\n",
        "\n",
        "print (np.floor(Z))\n",
        "\n",
        "print (np.ceil(Z)-1)\n",
        "\n",
        "print (Z.astype(int))\n",
        "\n",
        "print (np.trunc(Z))"
      ]
    },
    {
      "cell_type": "markdown",
      "metadata": {
        "id": "uXDAiMiNFbg1"
      },
      "source": [
        "#### 37. Create a 5x5 matrix with row values ranging from 0 to 4 (★★☆) \n",
        "(**hint**: np.arange)"
      ]
    },
    {
      "cell_type": "code",
      "execution_count": null,
      "metadata": {
        "id": "Lif6FY3uFbg2",
        "colab": {
          "base_uri": "https://localhost:8080/"
        },
        "outputId": "e0ed3707-e02f-42a8-e12e-2a487b69fbcd"
      },
      "outputs": [
        {
          "output_type": "stream",
          "name": "stdout",
          "text": [
            "[[0. 1. 2. 3. 4.]\n",
            " [0. 1. 2. 3. 4.]\n",
            " [0. 1. 2. 3. 4.]\n",
            " [0. 1. 2. 3. 4.]\n",
            " [0. 1. 2. 3. 4.]]\n"
          ]
        }
      ],
      "source": [
        "Z = np.zeros((5,5))\n",
        "\n",
        "Z += np.arange(5)\n",
        "\n",
        "print(Z)"
      ]
    },
    {
      "cell_type": "markdown",
      "metadata": {
        "id": "bTA3ShAoFbg2"
      },
      "source": [
        "#### 38. Consider a generator function that generates 10 integers and use it to build an array (★☆☆) \n",
        "(**hint**: np.fromiter)"
      ]
    },
    {
      "cell_type": "code",
      "execution_count": null,
      "metadata": {
        "id": "reZEfdxxFbg3",
        "colab": {
          "base_uri": "https://localhost:8080/"
        },
        "outputId": "50ea8e3c-9f10-496d-bbb6-64675ab1bab6"
      },
      "outputs": [
        {
          "output_type": "stream",
          "name": "stdout",
          "text": [
            "[0. 1. 2. 3. 4. 5. 6. 7. 8. 9.]\n"
          ]
        }
      ],
      "source": [
        "def generate():\n",
        "\n",
        "  for x in range(10):\n",
        "\n",
        "    yield x\n",
        "\n",
        "Z = np.fromiter(generate(),dtype=float,count=-1)\n",
        "\n",
        "print(Z)"
      ]
    },
    {
      "cell_type": "markdown",
      "metadata": {
        "id": "WnVjyB0XFbg3"
      },
      "source": [
        "#### 39. Create a vector of size 10 with values ranging from 0 to 1, both excluded (★★☆) \n",
        "(**hint**: np.linspace)"
      ]
    },
    {
      "cell_type": "code",
      "execution_count": null,
      "metadata": {
        "id": "Yj3q5fLsFbg4",
        "colab": {
          "base_uri": "https://localhost:8080/"
        },
        "outputId": "5f4063ed-0521-4a89-9caa-8b7ef4393f81"
      },
      "outputs": [
        {
          "output_type": "stream",
          "name": "stdout",
          "text": [
            "[0.09090909 0.18181818 0.27272727 0.36363636 0.45454545 0.54545455\n",
            " 0.63636364 0.72727273 0.81818182 0.90909091]\n"
          ]
        }
      ],
      "source": [
        "Z = np.linspace(0,1,12,endpoint=True)[1:-1]\n",
        "\n",
        "print(Z)"
      ]
    },
    {
      "cell_type": "markdown",
      "metadata": {
        "id": "XuUEOlkuFbg4"
      },
      "source": [
        "#### 40. Create a random vector of size 10 and sort it (★★☆) \n",
        "(**hint**: sort)"
      ]
    },
    {
      "cell_type": "code",
      "execution_count": null,
      "metadata": {
        "id": "9LeqHQ0mFbg5",
        "colab": {
          "base_uri": "https://localhost:8080/"
        },
        "outputId": "0fd52459-4d14-4149-d8b4-6448e2b87c29"
      },
      "outputs": [
        {
          "output_type": "stream",
          "name": "stdout",
          "text": [
            "[0.05985754 0.061476   0.08969299 0.14113625 0.24346565 0.43500629\n",
            " 0.63073483 0.66021549 0.69631139 0.83705878]\n"
          ]
        }
      ],
      "source": [
        "Z = np.random.random(10)\n",
        "\n",
        "Z.sort()\n",
        "\n",
        "print(Z)"
      ]
    },
    {
      "cell_type": "markdown",
      "metadata": {
        "id": "Gu-m1SEmFbg5"
      },
      "source": [
        "#### 41. How to sum a small array faster than np.sum? (★★☆) \n",
        "(**hint**: np.add.reduce)"
      ]
    },
    {
      "cell_type": "code",
      "execution_count": null,
      "metadata": {
        "id": "vH3Dzqt9Fbg5",
        "colab": {
          "base_uri": "https://localhost:8080/"
        },
        "outputId": "f90abd5b-6dd8-4bbb-fec2-a23da6db6c79"
      },
      "outputs": [
        {
          "output_type": "execute_result",
          "data": {
            "text/plain": [
              "45"
            ]
          },
          "metadata": {},
          "execution_count": 45
        }
      ],
      "source": [
        "Z = np.arange(10)\n",
        "\n",
        "np.add.reduce(Z)"
      ]
    },
    {
      "cell_type": "markdown",
      "metadata": {
        "id": "RcvPJYJwFbg6"
      },
      "source": [
        "#### 42. Consider two random array A and B, check if they are equal (★★☆) \n",
        "(**hint**: np.allclose, np.array\\_equal)"
      ]
    },
    {
      "cell_type": "code",
      "execution_count": null,
      "metadata": {
        "id": "8VOncL6_Fbg7",
        "colab": {
          "base_uri": "https://localhost:8080/"
        },
        "outputId": "b09b7a36-794b-4412-da81-7b015b8c7f9c"
      },
      "outputs": [
        {
          "output_type": "stream",
          "name": "stdout",
          "text": [
            "False\n",
            "False\n"
          ]
        }
      ],
      "source": [
        "A = np.random.randint(0,2,5)\n",
        "\n",
        "B = np.random.randint(0,2,5)\n",
        "\n",
        "# Assuming identical shape of the arrays and a tolerance for the comparison of values\n",
        "\n",
        "equal = np.allclose(A,B)\n",
        "\n",
        "print(equal)\n",
        "\n",
        "# Checking both the shape and the element values, no tolerance (values have to be exactly equal)\n",
        "\n",
        "equal = np.array_equal(A,B)\n",
        "\n",
        "print(equal)"
      ]
    },
    {
      "cell_type": "markdown",
      "metadata": {
        "id": "yYPAEYNYFbg7"
      },
      "source": [
        "#### 43. Make an array immutable (read-only) (★★☆) \n",
        "(**hint**: flags.writeable)"
      ]
    },
    {
      "cell_type": "code",
      "execution_count": null,
      "metadata": {
        "id": "HJhB_yROFbg7",
        "colab": {
          "base_uri": "https://localhost:8080/",
          "height": 209
        },
        "outputId": "53206293-e5b8-4752-ade2-d0c9b81e99b4"
      },
      "outputs": [
        {
          "output_type": "error",
          "ename": "ValueError",
          "evalue": "ignored",
          "traceback": [
            "\u001b[0;31m---------------------------------------------------------------------------\u001b[0m",
            "\u001b[0;31mValueError\u001b[0m                                Traceback (most recent call last)",
            "\u001b[0;32m<ipython-input-47-e5280283d1b0>\u001b[0m in \u001b[0;36m<module>\u001b[0;34m\u001b[0m\n\u001b[1;32m      3\u001b[0m \u001b[0mZ\u001b[0m\u001b[0;34m.\u001b[0m\u001b[0mflags\u001b[0m\u001b[0;34m.\u001b[0m\u001b[0mwriteable\u001b[0m \u001b[0;34m=\u001b[0m \u001b[0;32mFalse\u001b[0m\u001b[0;34m\u001b[0m\u001b[0;34m\u001b[0m\u001b[0m\n\u001b[1;32m      4\u001b[0m \u001b[0;34m\u001b[0m\u001b[0m\n\u001b[0;32m----> 5\u001b[0;31m \u001b[0mZ\u001b[0m\u001b[0;34m[\u001b[0m\u001b[0;36m0\u001b[0m\u001b[0;34m]\u001b[0m \u001b[0;34m=\u001b[0m \u001b[0;36m1\u001b[0m\u001b[0;34m\u001b[0m\u001b[0;34m\u001b[0m\u001b[0m\n\u001b[0m",
            "\u001b[0;31mValueError\u001b[0m: assignment destination is read-only"
          ]
        }
      ],
      "source": [
        "Z = np.zeros(10)\n",
        "\n",
        "Z.flags.writeable = False\n",
        "\n",
        "Z[0] = 1"
      ]
    },
    {
      "cell_type": "markdown",
      "metadata": {
        "id": "HMdg6IIKFbg8"
      },
      "source": [
        "#### 44. Consider a random 10x2 matrix representing cartesian coordinates, convert them to polar coordinates (★★☆) \n",
        "(**hint**: np.sqrt, np.arctan2)"
      ]
    },
    {
      "cell_type": "code",
      "execution_count": null,
      "metadata": {
        "id": "bc5RWSIJFbg8",
        "colab": {
          "base_uri": "https://localhost:8080/"
        },
        "outputId": "faa78178-c7d5-47a9-9602-41f76fc8333c"
      },
      "outputs": [
        {
          "output_type": "stream",
          "name": "stdout",
          "text": [
            "[0.9205266  0.862764   0.82086938 0.88025949 0.83273694 0.16700641\n",
            " 0.75165427 0.18867893 0.69194621 0.85741855]\n",
            "[0.68944032 1.07588865 0.81860219 0.93211965 0.10092857 0.31566503\n",
            " 1.53670678 0.13609452 0.29483126 0.90109538]\n"
          ]
        }
      ],
      "source": [
        "Z = np.random.random((10,2))\n",
        "\n",
        "X,Y = Z[:,0], Z[:,1]\n",
        "\n",
        "R = np.sqrt(X**2+Y**2)\n",
        "\n",
        "T = np.arctan2(Y,X)\n",
        "\n",
        "print(R)\n",
        "\n",
        "print(T)"
      ]
    },
    {
      "cell_type": "markdown",
      "metadata": {
        "id": "Awzn0QbrFbg8"
      },
      "source": [
        "#### 45. Create random vector of size 10 and replace the maximum value by 0 (★★☆) \n",
        "(**hint**: argmax)"
      ]
    },
    {
      "cell_type": "code",
      "execution_count": null,
      "metadata": {
        "id": "hwNrrzRFFbg9",
        "colab": {
          "base_uri": "https://localhost:8080/"
        },
        "outputId": "33780205-9630-450e-9089-792c91a9a1c7"
      },
      "outputs": [
        {
          "output_type": "stream",
          "name": "stdout",
          "text": [
            "[0.68946688 0.47271459 0.         0.02220249 0.61198867 0.73307906\n",
            " 0.21783696 0.39935302 0.38933121 0.6080929 ]\n"
          ]
        }
      ],
      "source": [
        "Z = np.random.random(10)\n",
        "\n",
        "Z[Z.argmax()] = 0\n",
        "\n",
        "print(Z)"
      ]
    },
    {
      "cell_type": "markdown",
      "metadata": {
        "id": "qEVu4JPHFbg9"
      },
      "source": [
        "#### 46. Create a structured array with `x` and `y` coordinates covering the \\[0,1\\]x\\[0,1\\] area (★★☆) \n",
        "(**hint**: np.meshgrid)"
      ]
    },
    {
      "cell_type": "code",
      "execution_count": null,
      "metadata": {
        "id": "2Hok8OxbFbg-",
        "colab": {
          "base_uri": "https://localhost:8080/"
        },
        "outputId": "52987647-0e32-4ad3-d86a-0c9557b9ad17"
      },
      "outputs": [
        {
          "output_type": "stream",
          "name": "stdout",
          "text": [
            "[[(0.  , 0.  ) (0.25, 0.  ) (0.5 , 0.  ) (0.75, 0.  ) (1.  , 0.  )]\n",
            " [(0.  , 0.25) (0.25, 0.25) (0.5 , 0.25) (0.75, 0.25) (1.  , 0.25)]\n",
            " [(0.  , 0.5 ) (0.25, 0.5 ) (0.5 , 0.5 ) (0.75, 0.5 ) (1.  , 0.5 )]\n",
            " [(0.  , 0.75) (0.25, 0.75) (0.5 , 0.75) (0.75, 0.75) (1.  , 0.75)]\n",
            " [(0.  , 1.  ) (0.25, 1.  ) (0.5 , 1.  ) (0.75, 1.  ) (1.  , 1.  )]]\n"
          ]
        }
      ],
      "source": [
        "Z = np.zeros((5,5), [('x',float),('y',float)])\n",
        "\n",
        "Z['x'], Z['y'] = np.meshgrid(np.linspace(0,1,5),\n",
        "\n",
        "np.linspace(0,1,5))\n",
        "\n",
        "print(Z)"
      ]
    },
    {
      "cell_type": "markdown",
      "metadata": {
        "id": "Eg439unwFbg_"
      },
      "source": [
        "####  47. Given two arrays, X and Y, construct the Cauchy matrix C (Cij =1/(xi - yj)) \n",
        "(**hint**: np.subtract.outer)"
      ]
    },
    {
      "cell_type": "code",
      "execution_count": null,
      "metadata": {
        "id": "-wdu5A97Fbg_",
        "colab": {
          "base_uri": "https://localhost:8080/"
        },
        "outputId": "cf8cc250-16b3-4745-bc0a-f304778004b8"
      },
      "outputs": [
        {
          "output_type": "stream",
          "name": "stdout",
          "text": [
            "3638.163637117973\n"
          ]
        }
      ],
      "source": [
        "X = np.arange(8)\n",
        "\n",
        "Y = X + 0.5\n",
        "\n",
        "C = 1.0 / np.subtract.outer(X, Y)\n",
        "\n",
        "print(np.linalg.det(C))"
      ]
    },
    {
      "cell_type": "markdown",
      "metadata": {
        "id": "TVTyvge7FbhA"
      },
      "source": [
        "#### 48. Print the minimum and maximum representable value for each numpy scalar type (★★☆) \n",
        "(**hint**: np.iinfo, np.finfo, eps)"
      ]
    },
    {
      "cell_type": "code",
      "execution_count": null,
      "metadata": {
        "id": "XsD-rurqFbhA",
        "colab": {
          "base_uri": "https://localhost:8080/"
        },
        "outputId": "573c8f73-6719-43ec-a206-eb4808d880ce"
      },
      "outputs": [
        {
          "output_type": "stream",
          "name": "stdout",
          "text": [
            "-128\n",
            "127\n",
            "-2147483648\n",
            "2147483647\n",
            "-9223372036854775808\n",
            "9223372036854775807\n",
            "-3.4028235e+38\n",
            "3.4028235e+38\n",
            "1.1920929e-07\n",
            "-1.7976931348623157e+308\n",
            "1.7976931348623157e+308\n",
            "2.220446049250313e-16\n"
          ]
        }
      ],
      "source": [
        "for dtype in [np.int8, np.int32, np.int64]:\n",
        "\n",
        "  print(np.iinfo(dtype).min)\n",
        "\n",
        "  print(np.iinfo(dtype).max)\n",
        "\n",
        "for dtype in [np.float32, np.float64]:\n",
        "\n",
        "    print(np.finfo(dtype).min)\n",
        "\n",
        "    print(np.finfo(dtype).max)\n",
        "\n",
        "    print(np.finfo(dtype).eps)"
      ]
    },
    {
      "cell_type": "markdown",
      "metadata": {
        "id": "23Bgp_9PFbhA"
      },
      "source": [
        "#### 49. How to print all the values of an array? (★★☆) \n",
        "(**hint**: np.set\\_printoptions)"
      ]
    },
    {
      "cell_type": "code",
      "execution_count": null,
      "metadata": {
        "id": "GpvYS6VVFbhB",
        "colab": {
          "base_uri": "https://localhost:8080/",
          "height": 417
        },
        "outputId": "56261286-e4fd-460f-ec22-fd1b7e703173"
      },
      "outputs": [
        {
          "output_type": "error",
          "ename": "ValueError",
          "evalue": "ignored",
          "traceback": [
            "\u001b[0;31m---------------------------------------------------------------------------\u001b[0m",
            "\u001b[0;31mValueError\u001b[0m                                Traceback (most recent call last)",
            "\u001b[0;32m<ipython-input-57-c6aaefd0292f>\u001b[0m in \u001b[0;36m<module>\u001b[0;34m\u001b[0m\n\u001b[0;32m----> 1\u001b[0;31m \u001b[0mnp\u001b[0m\u001b[0;34m.\u001b[0m\u001b[0mset_printoptions\u001b[0m\u001b[0;34m(\u001b[0m\u001b[0mthreshold\u001b[0m\u001b[0;34m=\u001b[0m\u001b[0mnp\u001b[0m\u001b[0;34m.\u001b[0m\u001b[0mnan\u001b[0m\u001b[0;34m)\u001b[0m\u001b[0;34m\u001b[0m\u001b[0;34m\u001b[0m\u001b[0m\n\u001b[0m\u001b[1;32m      2\u001b[0m \u001b[0;34m\u001b[0m\u001b[0m\n\u001b[1;32m      3\u001b[0m \u001b[0mZ\u001b[0m \u001b[0;34m=\u001b[0m \u001b[0mnp\u001b[0m\u001b[0;34m.\u001b[0m\u001b[0mzeros\u001b[0m\u001b[0;34m(\u001b[0m\u001b[0;34m(\u001b[0m\u001b[0;36m16\u001b[0m\u001b[0;34m,\u001b[0m\u001b[0;36m16\u001b[0m\u001b[0;34m)\u001b[0m\u001b[0;34m)\u001b[0m\u001b[0;34m\u001b[0m\u001b[0;34m\u001b[0m\u001b[0m\n\u001b[1;32m      4\u001b[0m \u001b[0;34m\u001b[0m\u001b[0m\n\u001b[1;32m      5\u001b[0m \u001b[0mprint\u001b[0m\u001b[0;34m(\u001b[0m\u001b[0mZ\u001b[0m\u001b[0;34m)\u001b[0m\u001b[0;34m\u001b[0m\u001b[0;34m\u001b[0m\u001b[0m\n",
            "\u001b[0;32m/usr/local/lib/python3.7/dist-packages/numpy/core/arrayprint.py\u001b[0m in \u001b[0;36mset_printoptions\u001b[0;34m(precision, threshold, edgeitems, linewidth, suppress, nanstr, infstr, formatter, sign, floatmode, legacy)\u001b[0m\n\u001b[1;32m    252\u001b[0m     opt = _make_options_dict(precision, threshold, edgeitems, linewidth,\n\u001b[1;32m    253\u001b[0m                              \u001b[0msuppress\u001b[0m\u001b[0;34m,\u001b[0m \u001b[0mnanstr\u001b[0m\u001b[0;34m,\u001b[0m \u001b[0minfstr\u001b[0m\u001b[0;34m,\u001b[0m \u001b[0msign\u001b[0m\u001b[0;34m,\u001b[0m \u001b[0mformatter\u001b[0m\u001b[0;34m,\u001b[0m\u001b[0;34m\u001b[0m\u001b[0;34m\u001b[0m\u001b[0m\n\u001b[0;32m--> 254\u001b[0;31m                              floatmode, legacy)\n\u001b[0m\u001b[1;32m    255\u001b[0m     \u001b[0;31m# formatter is always reset\u001b[0m\u001b[0;34m\u001b[0m\u001b[0;34m\u001b[0m\u001b[0;34m\u001b[0m\u001b[0m\n\u001b[1;32m    256\u001b[0m     \u001b[0mopt\u001b[0m\u001b[0;34m[\u001b[0m\u001b[0;34m'formatter'\u001b[0m\u001b[0;34m]\u001b[0m \u001b[0;34m=\u001b[0m \u001b[0mformatter\u001b[0m\u001b[0;34m\u001b[0m\u001b[0;34m\u001b[0m\u001b[0m\n",
            "\u001b[0;32m/usr/local/lib/python3.7/dist-packages/numpy/core/arrayprint.py\u001b[0m in \u001b[0;36m_make_options_dict\u001b[0;34m(precision, threshold, edgeitems, linewidth, suppress, nanstr, infstr, sign, formatter, floatmode, legacy)\u001b[0m\n\u001b[1;32m     86\u001b[0m             \u001b[0;32mraise\u001b[0m \u001b[0mTypeError\u001b[0m\u001b[0;34m(\u001b[0m\u001b[0;34m\"threshold must be numeric\"\u001b[0m\u001b[0;34m)\u001b[0m\u001b[0;34m\u001b[0m\u001b[0;34m\u001b[0m\u001b[0m\n\u001b[1;32m     87\u001b[0m         \u001b[0;32mif\u001b[0m \u001b[0mnp\u001b[0m\u001b[0;34m.\u001b[0m\u001b[0misnan\u001b[0m\u001b[0;34m(\u001b[0m\u001b[0mthreshold\u001b[0m\u001b[0;34m)\u001b[0m\u001b[0;34m:\u001b[0m\u001b[0;34m\u001b[0m\u001b[0;34m\u001b[0m\u001b[0m\n\u001b[0;32m---> 88\u001b[0;31m             raise ValueError(\"threshold must be non-NAN, try \"\n\u001b[0m\u001b[1;32m     89\u001b[0m                              \"sys.maxsize for untruncated representation\")\n\u001b[1;32m     90\u001b[0m \u001b[0;34m\u001b[0m\u001b[0m\n",
            "\u001b[0;31mValueError\u001b[0m: threshold must be non-NAN, try sys.maxsize for untruncated representation"
          ]
        }
      ],
      "source": [
        "np.set_printoptions(threshold=np.nan)\n",
        "\n",
        "Z = np.zeros((16,16))\n",
        "\n",
        "print(Z)"
      ]
    },
    {
      "cell_type": "markdown",
      "metadata": {
        "id": "mB6dQQJQFbhB"
      },
      "source": [
        "#### 50. How to find the closest value (to a given scalar) in a vector? (★★☆) \n",
        "(**hint**: argmin)"
      ]
    },
    {
      "cell_type": "code",
      "execution_count": null,
      "metadata": {
        "id": "-5hXMtHDFbhB",
        "colab": {
          "base_uri": "https://localhost:8080/"
        },
        "outputId": "90d9eee2-af63-49ba-b95c-1e4ad80187de"
      },
      "outputs": [
        {
          "output_type": "stream",
          "name": "stdout",
          "text": [
            "92\n"
          ]
        }
      ],
      "source": [
        "Z = np.arange(100)\n",
        "\n",
        "v = np.random.uniform(0,100)\n",
        "\n",
        "index = (np.abs(Z-v)).argmin()\n",
        "\n",
        "print(Z[index])"
      ]
    },
    {
      "cell_type": "markdown",
      "metadata": {
        "id": "SHf0dSceFbhC"
      },
      "source": [
        "#### 51. Create a structured array representing a position (x,y) and a color (r,g,b) (★★☆) \n",
        "(**hint**: dtype)"
      ]
    },
    {
      "cell_type": "code",
      "execution_count": null,
      "metadata": {
        "id": "L9tiuoFFFbhC",
        "colab": {
          "base_uri": "https://localhost:8080/"
        },
        "outputId": "f8241f6a-002d-4d28-beb7-543550621747"
      },
      "outputs": [
        {
          "output_type": "stream",
          "name": "stdout",
          "text": [
            "[((0., 0.), (0., 0., 0.)) ((0., 0.), (0., 0., 0.))\n",
            " ((0., 0.), (0., 0., 0.)) ((0., 0.), (0., 0., 0.))\n",
            " ((0., 0.), (0., 0., 0.)) ((0., 0.), (0., 0., 0.))\n",
            " ((0., 0.), (0., 0., 0.)) ((0., 0.), (0., 0., 0.))\n",
            " ((0., 0.), (0., 0., 0.)) ((0., 0.), (0., 0., 0.))]\n"
          ]
        },
        {
          "output_type": "stream",
          "name": "stderr",
          "text": [
            "/usr/local/lib/python3.7/dist-packages/ipykernel_launcher.py:9: FutureWarning: Passing (type, 1) or '1type' as a synonym of type is deprecated; in a future version of numpy, it will be understood as (type, (1,)) / '(1,)type'.\n",
            "  if __name__ == '__main__':\n"
          ]
        }
      ],
      "source": [
        "Z = np.zeros(10, [ ('position', [ ('x', float, 1),\n",
        "\n",
        "('y', float, 1)]),\n",
        "\n",
        "('color', [ ('r', float, 1),\n",
        "\n",
        "('g', float, 1),\n",
        "\n",
        "('b', float, 1)])])\n",
        "\n",
        "print(Z)"
      ]
    },
    {
      "cell_type": "markdown",
      "metadata": {
        "id": "6c75jGL_FbhC"
      },
      "source": [
        "#### 52. Consider a random vector with shape (100,2) representing coordinates, find point by point distances (★★☆) \n",
        "(**hint**: np.atleast\\_2d, T, np.sqrt)"
      ]
    },
    {
      "cell_type": "code",
      "execution_count": null,
      "metadata": {
        "id": "E7sNmswJFbhD",
        "colab": {
          "base_uri": "https://localhost:8080/"
        },
        "outputId": "99862514-2f40-42b5-8aad-c5bc35285ed9"
      },
      "outputs": [
        {
          "output_type": "stream",
          "name": "stdout",
          "text": [
            "[[0.         0.52452062 0.46062433 0.48827444 0.41057969 0.61375681\n",
            "  0.34095557 0.55635861 0.39063088 0.34797952]\n",
            " [0.52452062 0.         0.54474973 0.83443477 0.5138119  0.31282939\n",
            "  0.18461367 0.91153147 0.43220885 0.49212509]\n",
            " [0.46062433 0.54474973 0.         0.94870418 0.79650774 0.81355167\n",
            "  0.46701944 1.01686809 0.1175537  0.11329354]\n",
            " [0.48827444 0.83443477 0.94870418 0.         0.35532872 0.71674245\n",
            "  0.67740533 0.07741643 0.87137514 0.83574532]\n",
            " [0.41057969 0.5138119  0.79650774 0.35532872 0.         0.36183117\n",
            "  0.39538036 0.42671267 0.69160426 0.68906285]\n",
            " [0.61375681 0.31282939 0.81355167 0.71674245 0.36183117 0.\n",
            "  0.35119554 0.78648052 0.69602315 0.73491372]\n",
            " [0.34095557 0.18461367 0.46701944 0.67740533 0.39538036 0.35119554\n",
            "  0.         0.75478118 0.3498888  0.38382371]\n",
            " [0.55635861 0.91153147 1.01686809 0.07741643 0.42671267 0.78648052\n",
            "  0.75478118 0.         0.94272245 0.90433813]\n",
            " [0.39063088 0.43220885 0.1175537  0.87137514 0.69160426 0.69602315\n",
            "  0.3498888  0.94272245 0.         0.08282515]\n",
            " [0.34797952 0.49212509 0.11329354 0.83574532 0.68906285 0.73491372\n",
            "  0.38382371 0.90433813 0.08282515 0.        ]]\n",
            "[[0.         0.0936015  0.22793152 0.61581739 0.23163466 0.39530088\n",
            "  0.29706041 0.39102451 0.34416018 0.47661121]\n",
            " [0.0936015  0.         0.32153208 0.68814339 0.30447062 0.4831195\n",
            "  0.37498595 0.48122698 0.43281421 0.38319276]\n",
            " [0.22793152 0.32153208 0.         0.47102699 0.17735933 0.20510514\n",
            "  0.18319885 0.18524662 0.15394996 0.70425232]\n",
            " [0.61581739 0.68814339 0.47102699 0.         0.3849173  0.57131981\n",
            "  0.3199739  0.30851444 0.31939027 1.00958398]\n",
            " [0.23163466 0.30447062 0.17735933 0.3849173  0.         0.37660259\n",
            "  0.0735446  0.21752379 0.16482203 0.65263344]\n",
            " [0.39530088 0.4831195  0.20510514 0.57131981 0.37660259 0.\n",
            "  0.36061555 0.26703667 0.27836316 0.85972959]\n",
            " [0.29706041 0.37498595 0.18319885 0.3199739  0.0735446  0.36061555\n",
            "  0.         0.15636719 0.10702534 0.72612386]\n",
            " [0.39102451 0.48122698 0.18524662 0.30851444 0.21752379 0.26703667\n",
            "  0.15636719 0.         0.05293325 0.85400789]\n",
            " [0.34416018 0.43281421 0.15394996 0.31939027 0.16482203 0.27836316\n",
            "  0.10702534 0.05293325 0.         0.80289657]\n",
            " [0.47661121 0.38319276 0.70425232 1.00958398 0.65263344 0.85972959\n",
            "  0.72612386 0.85400789 0.80289657 0.        ]]\n"
          ]
        }
      ],
      "source": [
        "Z = np.random.random((10,2))\n",
        "\n",
        "X,Y = np.atleast_2d(Z[:,0], Z[:,1])\n",
        "\n",
        "D = np.sqrt( (X-X.T)**2 + (Y-Y.T)**2)\n",
        "\n",
        "print(D)\n",
        "\n",
        "# Much faster with scipy\n",
        "\n",
        "import scipy\n",
        "\n",
        "# Thanks Gavin Heverly-Coulson (#issue 1)\n",
        "\n",
        "import scipy.spatial\n",
        "\n",
        "Z = np.random.random((10,2))\n",
        "\n",
        "D = scipy.spatial.distance.cdist(Z,Z)\n",
        "\n",
        "print(D)"
      ]
    },
    {
      "cell_type": "markdown",
      "metadata": {
        "id": "WamG9cYCFbhD"
      },
      "source": [
        "#### 53. How to convert a float (32 bits) array into an integer (32 bits) in place? \n",
        "(**hint**: astype(copy=False))"
      ]
    },
    {
      "cell_type": "code",
      "execution_count": null,
      "metadata": {
        "id": "Zw2zaDA5FbhE",
        "colab": {
          "base_uri": "https://localhost:8080/"
        },
        "outputId": "ce818d75-27e9-42af-e639-eb41cff05c9e"
      },
      "outputs": [
        {
          "output_type": "stream",
          "name": "stdout",
          "text": [
            "[0. 1. 2. 3. 4. 5. 6. 7. 8. 9.]\n"
          ]
        }
      ],
      "source": [
        "Z = np.arange(10, dtype=np.int32)\n",
        "\n",
        "Z = Z.astype(np.float32, copy=False)\n",
        "\n",
        "print(Z)\n"
      ]
    },
    {
      "cell_type": "markdown",
      "metadata": {
        "id": "9DUKWXn4FbhE"
      },
      "source": [
        "#### 54. How to read the following file? (★★☆) \n",
        "(**hint**: np.genfromtxt)"
      ]
    },
    {
      "cell_type": "markdown",
      "metadata": {
        "id": "QElYozfSFbhF"
      },
      "source": [
        "```\n",
        "1, 2, 3, 4, 5\n",
        "6,  ,  , 7, 8\n",
        " ,  , 9,10,11\n",
        "```"
      ]
    },
    {
      "cell_type": "code",
      "execution_count": null,
      "metadata": {
        "id": "oDHC_v9sFbhF",
        "colab": {
          "base_uri": "https://localhost:8080/",
          "height": 135
        },
        "outputId": "f9d7c9f7-afca-4bf1-fdf0-0082a5ffaa0f"
      },
      "outputs": [
        {
          "output_type": "error",
          "ename": "SyntaxError",
          "evalue": "ignored",
          "traceback": [
            "\u001b[0;36m  File \u001b[0;32m\"<ipython-input-63-0bc9f79e2234>\"\u001b[0;36m, line \u001b[0;32m11\u001b[0m\n\u001b[0;31m    Z = np.genfromtxt(s,delimiter=\",\", dtype = http://np.int)\u001b[0m\n\u001b[0m                                                   ^\u001b[0m\n\u001b[0;31mSyntaxError\u001b[0m\u001b[0;31m:\u001b[0m invalid syntax\n"
          ]
        }
      ],
      "source": [
        "from io import StringIO\n",
        "\n",
        "# Fake file\n",
        "\n",
        "s = StringIO(\"\"\"1, 2, 3, 4, 5\\n\n",
        "\n",
        "6, , , 7, 8\\n\n",
        "\n",
        ", , 9,10,11\\n\"\"\")\n",
        "\n",
        "Z = np.genfromtxt(s,delimiter=\",\", dtype = http://np.int)\n",
        "\n",
        "print(Z)"
      ]
    },
    {
      "cell_type": "markdown",
      "metadata": {
        "id": "-kLog-0AFbhG"
      },
      "source": [
        "#### 55. What is the equivalent of enumerate for numpy arrays? (★★☆) \n",
        "(**hint**: np.ndenumerate, np.ndindex)"
      ]
    },
    {
      "cell_type": "code",
      "execution_count": null,
      "metadata": {
        "id": "vBUKoxDlFbhG",
        "colab": {
          "base_uri": "https://localhost:8080/"
        },
        "outputId": "70846000-a6dd-4eac-af56-d6bd46952070"
      },
      "outputs": [
        {
          "output_type": "stream",
          "name": "stdout",
          "text": [
            "(0, 0) 0\n",
            "(0, 1) 1\n",
            "(0, 2) 2\n",
            "(1, 0) 3\n",
            "(1, 1) 4\n",
            "(1, 2) 5\n",
            "(2, 0) 6\n",
            "(2, 1) 7\n",
            "(2, 2) 8\n",
            "(0, 0) 0\n",
            "(0, 1) 1\n",
            "(0, 2) 2\n",
            "(1, 0) 3\n",
            "(1, 1) 4\n",
            "(1, 2) 5\n",
            "(2, 0) 6\n",
            "(2, 1) 7\n",
            "(2, 2) 8\n"
          ]
        }
      ],
      "source": [
        "Z = np.arange(9).reshape(3,3)\n",
        "\n",
        "for index, value in np.ndenumerate(Z):\n",
        "\n",
        "  print(index, value)\n",
        "\n",
        "for index in np.ndindex(Z.shape):\n",
        "\n",
        "  print(index, Z[index])"
      ]
    },
    {
      "cell_type": "markdown",
      "metadata": {
        "id": "gECrxgIYFbhG"
      },
      "source": [
        "#### 56. Generate a generic 2D Gaussian-like array (★★☆) \n",
        "(**hint**: np.meshgrid, np.exp)"
      ]
    },
    {
      "cell_type": "code",
      "execution_count": null,
      "metadata": {
        "id": "9bOQDeZmFbhH",
        "colab": {
          "base_uri": "https://localhost:8080/"
        },
        "outputId": "ccb7d73b-f955-455e-dae7-b396380cee74"
      },
      "outputs": [
        {
          "output_type": "stream",
          "name": "stdout",
          "text": [
            "[[0.36787944 0.44822088 0.51979489 0.57375342 0.60279818 0.60279818\n",
            "  0.57375342 0.51979489 0.44822088 0.36787944]\n",
            " [0.44822088 0.54610814 0.63331324 0.69905581 0.73444367 0.73444367\n",
            "  0.69905581 0.63331324 0.54610814 0.44822088]\n",
            " [0.51979489 0.63331324 0.73444367 0.81068432 0.85172308 0.85172308\n",
            "  0.81068432 0.73444367 0.63331324 0.51979489]\n",
            " [0.57375342 0.69905581 0.81068432 0.89483932 0.9401382  0.9401382\n",
            "  0.89483932 0.81068432 0.69905581 0.57375342]\n",
            " [0.60279818 0.73444367 0.85172308 0.9401382  0.98773022 0.98773022\n",
            "  0.9401382  0.85172308 0.73444367 0.60279818]\n",
            " [0.60279818 0.73444367 0.85172308 0.9401382  0.98773022 0.98773022\n",
            "  0.9401382  0.85172308 0.73444367 0.60279818]\n",
            " [0.57375342 0.69905581 0.81068432 0.89483932 0.9401382  0.9401382\n",
            "  0.89483932 0.81068432 0.69905581 0.57375342]\n",
            " [0.51979489 0.63331324 0.73444367 0.81068432 0.85172308 0.85172308\n",
            "  0.81068432 0.73444367 0.63331324 0.51979489]\n",
            " [0.44822088 0.54610814 0.63331324 0.69905581 0.73444367 0.73444367\n",
            "  0.69905581 0.63331324 0.54610814 0.44822088]\n",
            " [0.36787944 0.44822088 0.51979489 0.57375342 0.60279818 0.60279818\n",
            "  0.57375342 0.51979489 0.44822088 0.36787944]]\n"
          ]
        }
      ],
      "source": [
        "X, Y = np.meshgrid(np.linspace(-1,1,10), np.linspace(-1,1,10))\n",
        "\n",
        "D = np.sqrt(X*X+Y*Y)\n",
        "\n",
        "sigma, mu = 1.0, 0.0\n",
        "\n",
        "G = np.exp(-( (D-mu)**2 / ( 2.0 * sigma**2 ) ) )\n",
        "\n",
        "print(G)"
      ]
    },
    {
      "cell_type": "markdown",
      "metadata": {
        "id": "KVjrY5DwFbhH"
      },
      "source": [
        "#### 57. How to randomly place p elements in a 2D array? (★★☆) \n",
        "(**hint**: np.put, np.random.choice)"
      ]
    },
    {
      "cell_type": "code",
      "execution_count": null,
      "metadata": {
        "id": "D7DLCeHxFbhI",
        "colab": {
          "base_uri": "https://localhost:8080/"
        },
        "outputId": "7bd5ef28-3708-4c5b-9e13-597cae73f008"
      },
      "outputs": [
        {
          "output_type": "stream",
          "name": "stdout",
          "text": [
            "[[0. 0. 0. 0. 0. 0. 0. 0. 0. 0.]\n",
            " [0. 0. 0. 0. 0. 0. 0. 0. 0. 0.]\n",
            " [0. 0. 0. 0. 0. 0. 0. 0. 0. 0.]\n",
            " [0. 0. 0. 0. 0. 0. 0. 0. 0. 0.]\n",
            " [0. 0. 0. 0. 0. 0. 0. 0. 0. 0.]\n",
            " [0. 1. 0. 0. 0. 0. 1. 0. 0. 0.]\n",
            " [0. 0. 0. 0. 0. 0. 0. 0. 0. 0.]\n",
            " [0. 0. 1. 0. 0. 0. 0. 0. 0. 0.]\n",
            " [0. 0. 0. 0. 0. 0. 0. 0. 0. 0.]\n",
            " [0. 0. 0. 0. 0. 0. 0. 0. 0. 0.]]\n"
          ]
        }
      ],
      "source": [
        "n = 10\n",
        "\n",
        "p = 3\n",
        "\n",
        "Z = np.zeros((n,n))\n",
        "\n",
        "np.put(Z, np.random.choice(range(n*n), p, replace=False),1)\n",
        "\n",
        "print(Z)"
      ]
    },
    {
      "cell_type": "markdown",
      "metadata": {
        "id": "Mk8pbfC3FbhI"
      },
      "source": [
        "#### 58. Subtract the mean of each row of a matrix (★★☆) \n",
        "(**hint**: mean(axis=,keepdims=))"
      ]
    },
    {
      "cell_type": "code",
      "execution_count": null,
      "metadata": {
        "id": "LbGn0xODFbhI",
        "colab": {
          "base_uri": "https://localhost:8080/"
        },
        "outputId": "2116abc6-0312-4339-9d88-91878b193900"
      },
      "outputs": [
        {
          "output_type": "stream",
          "name": "stdout",
          "text": [
            "[[-0.0824436  -0.23606304 -0.16656658  0.12562749 -0.32218313  0.02701915\n",
            "   0.13644627  0.4437286  -0.02379241  0.09822725]\n",
            " [-0.02138914  0.02310801 -0.3155699   0.28445248  0.2274327   0.35787789\n",
            "  -0.1295293   0.10651694 -0.30531593 -0.22758376]\n",
            " [-0.2814645   0.59781409 -0.16578934  0.13494431 -0.19864578  0.03631385\n",
            "  -0.15664793  0.02112561  0.28918064 -0.27683095]\n",
            " [-0.21909133 -0.20648379 -0.13319956 -0.25356436 -0.14822509  0.5149999\n",
            "  -0.07382898  0.39417031 -0.21759583  0.34281874]\n",
            " [-0.19710026 -0.21161089 -0.04921266  0.14290203 -0.04834135 -0.23644138\n",
            "   0.14312529  0.4073001   0.09503061 -0.04565149]]\n"
          ]
        }
      ],
      "source": [
        "X = np.random.rand(5, 10)\n",
        "\n",
        "# Recent versions of numpy\n",
        "\n",
        "Y = X - X.mean(axis=1, keepdims=True)\n",
        "\n",
        "# Older versions of numpy\n",
        "\n",
        "Y = X - X.mean(axis=1).reshape(-1, 1)\n",
        "\n",
        "print(Y)"
      ]
    },
    {
      "cell_type": "markdown",
      "metadata": {
        "id": "YG7zmxBdFbhJ"
      },
      "source": [
        "#### 59. How to sort an array by the nth column? (★★☆) \n",
        "(**hint**: argsort)"
      ]
    },
    {
      "cell_type": "code",
      "execution_count": null,
      "metadata": {
        "id": "KsDd0n60FbhJ",
        "colab": {
          "base_uri": "https://localhost:8080/"
        },
        "outputId": "ce02fab9-f058-4f4e-ead8-22ffe885fce9"
      },
      "outputs": [
        {
          "output_type": "stream",
          "name": "stdout",
          "text": [
            "[[3 0 0]\n",
            " [2 9 8]\n",
            " [5 3 1]]\n",
            "[[3 0 0]\n",
            " [5 3 1]\n",
            " [2 9 8]]\n"
          ]
        }
      ],
      "source": [
        "Z = np.random.randint(0,10,(3,3))\n",
        "\n",
        "print(Z)\n",
        "\n",
        "print(Z[Z[:,1].argsort()])"
      ]
    },
    {
      "cell_type": "markdown",
      "metadata": {
        "id": "zq1PTMBxFbhJ"
      },
      "source": [
        "#### 60. How to tell if a given 2D array has null columns? (★★☆) \n",
        "(**hint**: any, ~)"
      ]
    },
    {
      "cell_type": "code",
      "execution_count": null,
      "metadata": {
        "id": "qTk0XQJeFbhK",
        "colab": {
          "base_uri": "https://localhost:8080/"
        },
        "outputId": "b3800ef2-bb66-40b3-8685-1950d711f117"
      },
      "outputs": [
        {
          "output_type": "stream",
          "name": "stdout",
          "text": [
            "False\n"
          ]
        }
      ],
      "source": [
        "Z = np.random.randint(0,3,(3,10))\n",
        "\n",
        "print((~Z.any(axis=0)).any())"
      ]
    },
    {
      "cell_type": "markdown",
      "metadata": {
        "id": "22n6-5HRFbhK"
      },
      "source": [
        "#### 61. Find the nearest value from a given value in an array (★★☆) \n",
        "(**hint**: np.abs, argmin, flat)"
      ]
    },
    {
      "cell_type": "code",
      "execution_count": null,
      "metadata": {
        "id": "6bIX5V0mFbhL",
        "colab": {
          "base_uri": "https://localhost:8080/"
        },
        "outputId": "8d7d38f2-9f8d-45ff-f899-777e81f7e38b"
      },
      "outputs": [
        {
          "output_type": "stream",
          "name": "stdout",
          "text": [
            "0.4899622152398908\n"
          ]
        }
      ],
      "source": [
        "Z = np.random.uniform(0,1,10)\n",
        "\n",
        "z = 0.5\n",
        "\n",
        "m = Z.flat[np.abs(Z - z).argmin()]\n",
        "\n",
        "print(m)"
      ]
    },
    {
      "cell_type": "markdown",
      "metadata": {
        "id": "9JbcEBo2FbhL"
      },
      "source": [
        "#### 62. Considering two arrays with shape (1,3) and (3,1), how to compute their sum using an iterator? (★★☆) \n",
        "(**hint**: np.nditer)"
      ]
    },
    {
      "cell_type": "code",
      "execution_count": null,
      "metadata": {
        "id": "8vGxjphhFbhL",
        "colab": {
          "base_uri": "https://localhost:8080/"
        },
        "outputId": "47b0fa16-4632-4d42-d3ca-abfe48b70881"
      },
      "outputs": [
        {
          "output_type": "stream",
          "name": "stdout",
          "text": [
            "[[0 1 2]\n",
            " [1 2 3]\n",
            " [2 3 4]]\n"
          ]
        }
      ],
      "source": [
        "A = np.arange(3).reshape(3,1)\n",
        "\n",
        "B = np.arange(3).reshape(1,3)\n",
        "\n",
        "it = np.nditer([A,B,None])\n",
        "\n",
        "for x,y,z in it: z[...] = x + y\n",
        "\n",
        "print(it.operands[2])"
      ]
    },
    {
      "cell_type": "markdown",
      "metadata": {
        "id": "Jf3llN6OFbhM"
      },
      "source": [
        "#### 63. Create an array class that has a name attribute (★★☆) \n",
        "(**hint**: class method)"
      ]
    },
    {
      "cell_type": "code",
      "execution_count": null,
      "metadata": {
        "id": "901qBsKoFbhM",
        "colab": {
          "base_uri": "https://localhost:8080/",
          "height": 135
        },
        "outputId": "cee30ffd-eab3-457d-8f92-4def63be552b"
      },
      "outputs": [
        {
          "output_type": "error",
          "ename": "SyntaxError",
          "evalue": "ignored",
          "traceback": [
            "\u001b[0;36m  File \u001b[0;32m\"<ipython-input-80-8069fa7a842a>\"\u001b[0;36m, line \u001b[0;32m15\u001b[0m\n\u001b[0;31m    http://self.info = getattr(obj, 'name', \"no name\")\u001b[0m\n\u001b[0m          ^\u001b[0m\n\u001b[0;31mSyntaxError\u001b[0m\u001b[0;31m:\u001b[0m invalid syntax\n"
          ]
        }
      ],
      "source": [
        "class NamedArray(np.ndarray):\n",
        "\n",
        "  def __new__(cls, array, name=\"no name\"):\n",
        "\n",
        "    obj = np.asarray(array).view(cls)\n",
        "\n",
        "    obj.name = name\n",
        "\n",
        "    return obj\n",
        "\n",
        "    def __array_finalize__(self, obj):\n",
        "\n",
        "      if obj is None: return\n",
        "\n",
        "      http://self.info = getattr(obj, 'name', \"no name\")\n",
        "\n",
        "          Z = NamedArray(np.arange(10), \"range_10\")\n",
        "\n",
        "            print (Z.name)"
      ]
    },
    {
      "cell_type": "markdown",
      "metadata": {
        "id": "_KBiJqgNFbhM"
      },
      "source": [
        "#### 64. Consider a given vector, how to add 1 to each element indexed by a second vector (be careful with repeated indices)? (★★★) \n",
        "(**hint**: np.bincount | np.add.at)"
      ]
    },
    {
      "cell_type": "code",
      "execution_count": null,
      "metadata": {
        "id": "mNxZ6v8lFbhN",
        "colab": {
          "base_uri": "https://localhost:8080/"
        },
        "outputId": "a95c71d1-5a47-4584-e498-1a97d92b54f6"
      },
      "outputs": [
        {
          "output_type": "stream",
          "name": "stdout",
          "text": [
            "[4. 4. 3. 1. 6. 3. 1. 3. 2. 3.]\n",
            "[ 7.  7.  5.  1. 11.  5.  1.  5.  3.  5.]\n"
          ]
        }
      ],
      "source": [
        "Z = np.ones(10)\n",
        "\n",
        "I = np.random.randint(0,len(Z),20)\n",
        "\n",
        "Z += np.bincount(I, minlength=len(Z))\n",
        "\n",
        "print(Z)\n",
        "\n",
        "# Another solution\n",
        "\n",
        "# Author: Bartosz Telenczuk\n",
        "\n",
        "np.add.at(Z, I, 1)\n",
        "\n",
        "print(Z)"
      ]
    },
    {
      "cell_type": "markdown",
      "metadata": {
        "id": "sCB3hG0JFbhN"
      },
      "source": [
        "#### 65. How to accumulate elements of a vector (X) to an array (F) based on an index list (I)? (★★★) \n",
        "(**hint**: np.bincount)"
      ]
    },
    {
      "cell_type": "code",
      "execution_count": null,
      "metadata": {
        "id": "eNqMexnGFbhN",
        "colab": {
          "base_uri": "https://localhost:8080/"
        },
        "outputId": "0ffe2a8e-4465-4736-e4d1-dd0d44217bde"
      },
      "outputs": [
        {
          "output_type": "stream",
          "name": "stdout",
          "text": [
            "[0. 7. 0. 6. 5. 0. 0. 0. 0. 3.]\n"
          ]
        }
      ],
      "source": [
        "X = [1,2,3,4,5,6]\n",
        "\n",
        "I = [1,3,9,3,4,1]\n",
        "\n",
        "F = np.bincount(I,X)\n",
        "\n",
        "print(F)"
      ]
    },
    {
      "cell_type": "markdown",
      "metadata": {
        "id": "2twW2j6aFbhO"
      },
      "source": [
        "#### 66. Considering a (w,h,3) image of (dtype=ubyte), compute the number of unique colors (★★★) \n",
        "(**hint**: np.unique)"
      ]
    },
    {
      "cell_type": "code",
      "execution_count": null,
      "metadata": {
        "id": "d5jlkVenFbhP",
        "colab": {
          "base_uri": "https://localhost:8080/"
        },
        "outputId": "aab55aeb-ebed-40d2-ea75-ecbda2825c14"
      },
      "outputs": [
        {
          "output_type": "stream",
          "name": "stdout",
          "text": [
            "[0 1]\n"
          ]
        }
      ],
      "source": [
        "w,h = 16,16\n",
        "\n",
        "I = np.random.randint(0,2,(h,w,3)).astype(np.ubyte)\n",
        "\n",
        "F = I[...,0]*256*256 + I[...,1]*256 +I[...,2]\n",
        "\n",
        "n = len(np.unique(F))\n",
        "\n",
        "print(np.unique(I))"
      ]
    },
    {
      "cell_type": "markdown",
      "metadata": {
        "id": "fhlE_-cGFbhQ"
      },
      "source": [
        "#### 67. Considering a four dimensions array, how to get sum over the last two axis at once? (★★★) \n",
        "(**hint**: sum(axis=(-2,-1)))"
      ]
    },
    {
      "cell_type": "code",
      "execution_count": null,
      "metadata": {
        "id": "Ge431ukZFbhQ",
        "colab": {
          "base_uri": "https://localhost:8080/"
        },
        "outputId": "f8598d7b-74a2-41f9-e9dd-a74a899755b2"
      },
      "outputs": [
        {
          "output_type": "stream",
          "name": "stdout",
          "text": [
            "[[72 60 63 54]\n",
            " [61 64 59 78]\n",
            " [52 49 42 50]]\n",
            "[[72 60 63 54]\n",
            " [61 64 59 78]\n",
            " [52 49 42 50]]\n"
          ]
        }
      ],
      "source": [
        "A = np.random.randint(0,10,(3,4,3,4))\n",
        "\n",
        "# solution by passing a tuple of axes (introduced in numpy 1.7.0)\n",
        "\n",
        "sum = A.sum(axis=(-2,-1))\n",
        "\n",
        "print(sum)\n",
        "\n",
        "# solution by flattening the last two dimensions into one\n",
        "\n",
        "# (useful for functions that don't accept tuples for axis argument)\n",
        "\n",
        "sum = A.reshape(A.shape[:-2] + (-1,)).sum(axis=-1)\n",
        "\n",
        "print(sum)"
      ]
    },
    {
      "cell_type": "markdown",
      "metadata": {
        "id": "263_keHFFbhR"
      },
      "source": [
        "#### 68. Considering a one-dimensional vector D, how to compute means of subsets of D using a vector S of same size describing subset  indices? (★★★) \n",
        "(**hint**: np.bincount)"
      ]
    },
    {
      "cell_type": "code",
      "execution_count": null,
      "metadata": {
        "id": "UFFZNzpOFbhR",
        "colab": {
          "base_uri": "https://localhost:8080/"
        },
        "outputId": "c8c669de-47a1-4d6a-e3f8-af5f2878b602"
      },
      "outputs": [
        {
          "output_type": "stream",
          "name": "stdout",
          "text": [
            "[0.42077609 0.35486903 0.45414145 0.4977103  0.52861698 0.69724469\n",
            " 0.60051519 0.28388685 0.40197586 0.44116241]\n",
            "0    0.420776\n",
            "1    0.354869\n",
            "2    0.454141\n",
            "3    0.497710\n",
            "4    0.528617\n",
            "5    0.697245\n",
            "6    0.600515\n",
            "7    0.283887\n",
            "8    0.401976\n",
            "9    0.441162\n",
            "dtype: float64\n"
          ]
        }
      ],
      "source": [
        "D = np.random.uniform(0,1,100)\n",
        "\n",
        "S = np.random.randint(0,10,100)\n",
        "\n",
        "D_sums = np.bincount(S, weights=D)\n",
        "\n",
        "D_counts = np.bincount(S)\n",
        "\n",
        "D_means = D_sums / D_counts\n",
        "\n",
        "print(D_means)\n",
        "\n",
        "# Pandas solution as a reference due to more intuitive code\n",
        "\n",
        "import pandas as pd\n",
        "\n",
        "print(pd.Series(D).groupby(S).mean())"
      ]
    },
    {
      "cell_type": "markdown",
      "metadata": {
        "id": "L98_qgoCFbhS"
      },
      "source": [
        "#### 69. How to get the diagonal of a dot product? (★★★) \n",
        "(**hint**: np.diag)"
      ]
    },
    {
      "cell_type": "code",
      "execution_count": null,
      "metadata": {
        "id": "pvWmjG9LFbhS",
        "colab": {
          "base_uri": "https://localhost:8080/"
        },
        "outputId": "0c647b63-455e-4839-e91a-dc08bf67752e"
      },
      "outputs": [
        {
          "output_type": "execute_result",
          "data": {
            "text/plain": [
              "array([1.04013895, 1.63216947, 0.51524895, 1.37294658, 0.64709952])"
            ]
          },
          "metadata": {},
          "execution_count": 86
        }
      ],
      "source": [
        "A = np.random.uniform(0,1,(5,5))\n",
        "\n",
        "B = np.random.uniform(0,1,(5,5))\n",
        "\n",
        "# Slow version\n",
        "\n",
        "np.diag(np.dot(A, B))\n",
        "\n",
        "# Fast version\n",
        "\n",
        "np.sum(A * B.T, axis=1)\n",
        "\n",
        "# Faster version\n",
        "\n",
        "np.einsum(\"ij,ji->i\", A, B)"
      ]
    },
    {
      "cell_type": "markdown",
      "metadata": {
        "id": "PsTdHdEKFbhT"
      },
      "source": [
        "#### 70. Consider the vector \\[1, 2, 3, 4, 5\\], how to build a new vector with 3 consecutive zeros interleaved between each value? (★★★) \n",
        "(**hint**: array\\[::4\\])"
      ]
    },
    {
      "cell_type": "code",
      "execution_count": null,
      "metadata": {
        "id": "IDdKBYubFbhT",
        "colab": {
          "base_uri": "https://localhost:8080/"
        },
        "outputId": "635861c6-e23c-4924-bda5-ed566db3123c"
      },
      "outputs": [
        {
          "output_type": "stream",
          "name": "stdout",
          "text": [
            "[1. 0. 0. 0. 2. 0. 0. 0. 3. 0. 0. 0. 4. 0. 0. 0. 5.]\n"
          ]
        }
      ],
      "source": [
        "Z = np.array([1,2,3,4,5])\n",
        "\n",
        "nz = 3\n",
        "\n",
        "Z0 = np.zeros(len(Z) + (len(Z)-1)*(nz))\n",
        "\n",
        "Z0[::nz+1] = Z\n",
        "\n",
        "print(Z0)"
      ]
    },
    {
      "cell_type": "markdown",
      "metadata": {
        "id": "gPsCVtKIFbhT"
      },
      "source": [
        "#### 71. Consider an array of dimension (5,5,3), how to mulitply it by an array with dimensions (5,5)? (★★★) \n",
        "(**hint**: array\\[:, :, None\\])"
      ]
    },
    {
      "cell_type": "code",
      "execution_count": null,
      "metadata": {
        "collapsed": true,
        "id": "n1addHrjFbhU",
        "colab": {
          "base_uri": "https://localhost:8080/"
        },
        "outputId": "cdb0b0a6-e128-489e-8e4e-2d316cf557ab"
      },
      "outputs": [
        {
          "output_type": "stream",
          "name": "stdout",
          "text": [
            "[[[2. 2. 2.]\n",
            "  [2. 2. 2.]\n",
            "  [2. 2. 2.]\n",
            "  [2. 2. 2.]\n",
            "  [2. 2. 2.]]\n",
            "\n",
            " [[2. 2. 2.]\n",
            "  [2. 2. 2.]\n",
            "  [2. 2. 2.]\n",
            "  [2. 2. 2.]\n",
            "  [2. 2. 2.]]\n",
            "\n",
            " [[2. 2. 2.]\n",
            "  [2. 2. 2.]\n",
            "  [2. 2. 2.]\n",
            "  [2. 2. 2.]\n",
            "  [2. 2. 2.]]\n",
            "\n",
            " [[2. 2. 2.]\n",
            "  [2. 2. 2.]\n",
            "  [2. 2. 2.]\n",
            "  [2. 2. 2.]\n",
            "  [2. 2. 2.]]\n",
            "\n",
            " [[2. 2. 2.]\n",
            "  [2. 2. 2.]\n",
            "  [2. 2. 2.]\n",
            "  [2. 2. 2.]\n",
            "  [2. 2. 2.]]]\n"
          ]
        }
      ],
      "source": [
        "A = np.ones((5,5,3))\n",
        "\n",
        "B = 2*np.ones((5,5))\n",
        "\n",
        "print(A * B[:,:,None])"
      ]
    },
    {
      "cell_type": "markdown",
      "metadata": {
        "id": "owEBcTxdFbhU"
      },
      "source": [
        "#### 72. How to swap two rows of an array? (★★★) \n",
        "(**hint**: array\\[\\[\\]\\] = array\\[\\[\\]\\])"
      ]
    },
    {
      "cell_type": "code",
      "execution_count": null,
      "metadata": {
        "id": "Jgj18r_gFbhV",
        "colab": {
          "base_uri": "https://localhost:8080/"
        },
        "outputId": "5d576ef6-3a99-426f-a7c4-c3fa0309536e"
      },
      "outputs": [
        {
          "output_type": "stream",
          "name": "stdout",
          "text": [
            "[[ 5  6  7  8  9]\n",
            " [ 0  1  2  3  4]\n",
            " [10 11 12 13 14]\n",
            " [15 16 17 18 19]\n",
            " [20 21 22 23 24]]\n"
          ]
        }
      ],
      "source": [
        "A = np.arange(25).reshape(5,5)\n",
        "\n",
        "A[[0,1]] = A[[1,0]]\n",
        "\n",
        "print(A)"
      ]
    },
    {
      "cell_type": "markdown",
      "metadata": {
        "id": "Ut7SvUu2FbhW"
      },
      "source": [
        "#### 73. Consider a set of 10 triplets describing 10 triangles (with shared vertices), find the set of unique line segments composing all the  triangles (★★★) \n",
        "(**hint**: repeat, np.roll, np.sort, view, np.unique)"
      ]
    },
    {
      "cell_type": "code",
      "execution_count": null,
      "metadata": {
        "id": "8j69-xE5FbhW",
        "colab": {
          "base_uri": "https://localhost:8080/"
        },
        "outputId": "892002ff-3902-410f-c137-9fd37e952833"
      },
      "outputs": [
        {
          "output_type": "stream",
          "name": "stdout",
          "text": [
            "[( 1, 43) ( 1, 44) ( 5, 48) ( 5, 85) ( 6, 38) ( 6, 62) (12, 29) (12, 86)\n",
            " (13, 22) (13, 95) (17, 27) (17, 66) (22, 95) (27, 44) (27, 66) (27, 81)\n",
            " (29, 37) (29, 74) (29, 86) (37, 74) (38, 62) (43, 44) (44, 81) (48, 85)\n",
            " (59, 82) (59, 91) (63, 74) (63, 86) (74, 86) (82, 91)]\n"
          ]
        }
      ],
      "source": [
        "faces = np.random.randint(0,100,(10,3))\n",
        "\n",
        "F = np.roll(faces.repeat(2,axis=1),-1,axis=1)\n",
        "\n",
        "F = F.reshape(len(F)*3,2)\n",
        "\n",
        "F = np.sort(F,axis=1)\n",
        "\n",
        "G = F.view( dtype=[('p0',F.dtype),('p1',F.dtype)] )\n",
        "\n",
        "G = np.unique(G)\n",
        "\n",
        "print(G)"
      ]
    },
    {
      "cell_type": "markdown",
      "metadata": {
        "id": "mBv8SUGAFbhY"
      },
      "source": [
        "#### 74. Given an array C that is a bincount, how to produce an array A such that np.bincount(A) == C? (★★★) \n",
        "(**hint**: np.repeat)"
      ]
    },
    {
      "cell_type": "code",
      "execution_count": null,
      "metadata": {
        "id": "IfTWiuuyFbhZ",
        "colab": {
          "base_uri": "https://localhost:8080/"
        },
        "outputId": "a8e107f9-891f-48b5-d5a6-d298e2e0c111"
      },
      "outputs": [
        {
          "output_type": "stream",
          "name": "stdout",
          "text": [
            "[1 1 2 3 4 4 6]\n"
          ]
        }
      ],
      "source": [
        "C = np.bincount([1,1,2,3,4,4,6])\n",
        "\n",
        "A = np.repeat(np.arange(len(C)), C)\n",
        "\n",
        "print(A)"
      ]
    },
    {
      "cell_type": "markdown",
      "metadata": {
        "id": "uO-HPkJgFbhZ"
      },
      "source": [
        "#### 75. How to compute averages using a sliding window over an array? (★★★) \n",
        "(**hint**: np.cumsum)"
      ]
    },
    {
      "cell_type": "code",
      "execution_count": null,
      "metadata": {
        "id": "AGsRDgj6Fbha"
      },
      "outputs": [],
      "source": [
        "def moving_average(a, n=3) :\n",
        "\n",
        "  ret = np.cumsum(a, dtype=float)\n",
        "\n",
        "  ret[n:] = ret[n:] - ret[:-n]\n",
        "\n",
        "  return ret[n - 1:] / n\n",
        "\n",
        "  Z = np.arange(20)\n",
        "\n",
        "  print(moving_average(Z, n=3))"
      ]
    },
    {
      "cell_type": "markdown",
      "metadata": {
        "id": "1Jn9NPIBFbha"
      },
      "source": [
        "#### 76. Consider a one-dimensional array Z, build a two-dimensional array whose first row is (Z\\[0\\],Z\\[1\\],Z\\[2\\]) and each subsequent row is  shifted by 1 (last row should be (Z\\[-3\\],Z\\[-2\\],Z\\[-1\\]) (★★★) \n",
        "(**hint**: from numpy.lib import stride_tricks)"
      ]
    },
    {
      "cell_type": "code",
      "execution_count": null,
      "metadata": {
        "id": "ma8CeTdaFbhb"
      },
      "outputs": [],
      "source": [
        "from numpy.lib import stride_tricks\n",
        "\n",
        "def rolling(a, window):\n",
        "\n",
        "  shape = (a.size - window + 1, window)\n",
        "\n",
        "  strides = (a.itemsize, a.itemsize)\n",
        "\n",
        "  return stride_tricks.as_strided(a, shape=shape, strides=strides)\n",
        "\n",
        "  Z = rolling(np.arange(10), 3)\n",
        "\n",
        "  print(Z)"
      ]
    },
    {
      "cell_type": "markdown",
      "metadata": {
        "id": "hJhzSK9KFbhb"
      },
      "source": [
        "#### 77. How to negate a boolean, or to change the sign of a float inplace? (★★★) \n",
        "(**hint**: np.logical_not, np.negative)"
      ]
    },
    {
      "cell_type": "code",
      "execution_count": null,
      "metadata": {
        "id": "CXZl5X55Fbhb",
        "colab": {
          "base_uri": "https://localhost:8080/"
        },
        "outputId": "75008a4f-5a69-42d5-83cb-93b8d986b636"
      },
      "outputs": [
        {
          "output_type": "execute_result",
          "data": {
            "text/plain": [
              "array([ 0.35690808,  0.54344131, -0.05630232,  0.81481222, -0.53111665,\n",
              "       -0.04619629, -0.19650357, -0.38337703,  0.34146464, -0.99811281,\n",
              "       -0.57917517, -0.67655146, -0.75683367,  0.88127406, -0.6281345 ,\n",
              "        0.53953202, -0.59102845, -0.98996489,  0.97381517,  0.42723131,\n",
              "       -0.95003926,  0.90351623, -0.11648074, -0.11660766, -0.72123452,\n",
              "       -0.71832917, -0.11936591,  0.93037848, -0.63804619,  0.97047528,\n",
              "        0.38277851, -0.02716599,  0.36952239,  0.70429431, -0.58437557,\n",
              "        0.02933161, -0.32066026,  0.99574859,  0.80830533,  0.59253064,\n",
              "        0.7017685 ,  0.18797507, -0.31535547, -0.60141556,  0.82140393,\n",
              "       -0.91912807,  0.53303264,  0.88876642,  0.36379524, -0.69941537,\n",
              "        0.11749851, -0.01090579,  0.95523848, -0.67241371,  0.58988287,\n",
              "       -0.22483844,  0.91867462, -0.78250039, -0.95582578, -0.22509248,\n",
              "       -0.59486761, -0.57021478, -0.65217976, -0.11162072,  0.75115351,\n",
              "       -0.21042916, -0.63687663, -0.15102867,  0.17693111, -0.64684054,\n",
              "        0.85362264, -0.16447411,  0.51327819,  0.02581779, -0.70523384,\n",
              "       -0.62453566, -0.46527786,  0.00461909,  0.34533892, -0.27111793,\n",
              "        0.27134135,  0.72557356,  0.03262804,  0.77126847, -0.80223712,\n",
              "       -0.56661337, -0.90321555, -0.79035804, -0.53400675,  0.97548472,\n",
              "        0.60718789, -0.8598731 ,  0.28691225,  0.72631098, -0.78386551,\n",
              "        0.89728553,  0.31391342,  0.2751257 ,  0.62333528,  0.73493617])"
            ]
          },
          "metadata": {},
          "execution_count": 98
        }
      ],
      "source": [
        "Z = np.random.randint(0,2,100)\n",
        "\n",
        "np.logical_not(Z, out=Z)\n",
        "\n",
        "Z = np.random.uniform(-1.0,1.0,100)\n",
        "\n",
        "np.negative(Z, out=Z)"
      ]
    },
    {
      "cell_type": "markdown",
      "metadata": {
        "id": "PF3bzowjFbhc"
      },
      "source": [
        "#### 78. Consider 2 sets of points P0,P1 describing lines (2d) and a point p, how to compute distance from p to each line i  (P0\\[i\\],P1\\[i\\])? (★★★)"
      ]
    },
    {
      "cell_type": "code",
      "execution_count": null,
      "metadata": {
        "id": "h1Z747vNFbhd",
        "colab": {
          "base_uri": "https://localhost:8080/",
          "height": 375
        },
        "outputId": "28980914-6327-4984-c704-e25fd65bc335"
      },
      "outputs": [
        {
          "output_type": "error",
          "ename": "AxisError",
          "evalue": "ignored",
          "traceback": [
            "\u001b[0;31m---------------------------------------------------------------------------\u001b[0m",
            "\u001b[0;31mAxisError\u001b[0m                                 Traceback (most recent call last)",
            "\u001b[0;32m<ipython-input-111-3c771028657f>\u001b[0m in \u001b[0;36m<module>\u001b[0;34m\u001b[0m\n\u001b[1;32m      3\u001b[0m     \u001b[0mT\u001b[0m \u001b[0;34m=\u001b[0m \u001b[0mP1\u001b[0m \u001b[0;34m-\u001b[0m \u001b[0mP0\u001b[0m\u001b[0;34m\u001b[0m\u001b[0;34m\u001b[0m\u001b[0m\n\u001b[1;32m      4\u001b[0m \u001b[0;34m\u001b[0m\u001b[0m\n\u001b[0;32m----> 5\u001b[0;31m \u001b[0mL\u001b[0m \u001b[0;34m=\u001b[0m \u001b[0;34m(\u001b[0m\u001b[0mT\u001b[0m\u001b[0;34m**\u001b[0m\u001b[0;36m2\u001b[0m\u001b[0;34m)\u001b[0m\u001b[0;34m.\u001b[0m\u001b[0msum\u001b[0m\u001b[0;34m(\u001b[0m\u001b[0maxis\u001b[0m\u001b[0;34m=\u001b[0m\u001b[0;36m1\u001b[0m\u001b[0;34m)\u001b[0m\u001b[0;34m\u001b[0m\u001b[0;34m\u001b[0m\u001b[0m\n\u001b[0m\u001b[1;32m      6\u001b[0m \u001b[0;34m\u001b[0m\u001b[0m\n\u001b[1;32m      7\u001b[0m \u001b[0mU\u001b[0m \u001b[0;34m=\u001b[0m \u001b[0;34m-\u001b[0m\u001b[0;34m(\u001b[0m\u001b[0;34m(\u001b[0m\u001b[0mP0\u001b[0m\u001b[0;34m[\u001b[0m\u001b[0;34m:\u001b[0m\u001b[0;34m,\u001b[0m\u001b[0;36m0\u001b[0m\u001b[0;34m]\u001b[0m\u001b[0;34m-\u001b[0m\u001b[0mp\u001b[0m\u001b[0;34m[\u001b[0m\u001b[0;34m...\u001b[0m\u001b[0;34m,\u001b[0m\u001b[0;36m0\u001b[0m\u001b[0;34m]\u001b[0m\u001b[0;34m)\u001b[0m\u001b[0;34m*\u001b[0m\u001b[0mT\u001b[0m\u001b[0;34m[\u001b[0m\u001b[0;34m:\u001b[0m\u001b[0;34m,\u001b[0m\u001b[0;36m0\u001b[0m\u001b[0;34m]\u001b[0m \u001b[0;34m+\u001b[0m \u001b[0;34m(\u001b[0m\u001b[0mP0\u001b[0m\u001b[0;34m[\u001b[0m\u001b[0;34m:\u001b[0m\u001b[0;34m,\u001b[0m\u001b[0;36m1\u001b[0m\u001b[0;34m]\u001b[0m\u001b[0;34m-\u001b[0m\u001b[0mp\u001b[0m\u001b[0;34m[\u001b[0m\u001b[0;34m...\u001b[0m\u001b[0;34m,\u001b[0m\u001b[0;36m1\u001b[0m\u001b[0;34m]\u001b[0m\u001b[0;34m)\u001b[0m\u001b[0;34m*\u001b[0m\u001b[0mT\u001b[0m\u001b[0;34m[\u001b[0m\u001b[0;34m:\u001b[0m\u001b[0;34m,\u001b[0m\u001b[0;36m1\u001b[0m\u001b[0;34m]\u001b[0m\u001b[0;34m)\u001b[0m \u001b[0;34m/\u001b[0m \u001b[0mL\u001b[0m\u001b[0;34m\u001b[0m\u001b[0;34m\u001b[0m\u001b[0m\n",
            "\u001b[0;32m/usr/local/lib/python3.7/dist-packages/numpy/core/_methods.py\u001b[0m in \u001b[0;36m_sum\u001b[0;34m(a, axis, dtype, out, keepdims, initial, where)\u001b[0m\n\u001b[1;32m     46\u001b[0m def _sum(a, axis=None, dtype=None, out=None, keepdims=False,\n\u001b[1;32m     47\u001b[0m          initial=_NoValue, where=True):\n\u001b[0;32m---> 48\u001b[0;31m     \u001b[0;32mreturn\u001b[0m \u001b[0mumr_sum\u001b[0m\u001b[0;34m(\u001b[0m\u001b[0ma\u001b[0m\u001b[0;34m,\u001b[0m \u001b[0maxis\u001b[0m\u001b[0;34m,\u001b[0m \u001b[0mdtype\u001b[0m\u001b[0;34m,\u001b[0m \u001b[0mout\u001b[0m\u001b[0;34m,\u001b[0m \u001b[0mkeepdims\u001b[0m\u001b[0;34m,\u001b[0m \u001b[0minitial\u001b[0m\u001b[0;34m,\u001b[0m \u001b[0mwhere\u001b[0m\u001b[0;34m)\u001b[0m\u001b[0;34m\u001b[0m\u001b[0;34m\u001b[0m\u001b[0m\n\u001b[0m\u001b[1;32m     49\u001b[0m \u001b[0;34m\u001b[0m\u001b[0m\n\u001b[1;32m     50\u001b[0m def _prod(a, axis=None, dtype=None, out=None, keepdims=False,\n",
            "\u001b[0;31mAxisError\u001b[0m: axis 1 is out of bounds for array of dimension 1"
          ]
        }
      ],
      "source": [
        "def distance(P0, P1, p):\n",
        "\n",
        "    T = P1 - P0\n",
        "\n",
        "L = (T**2).sum(axis=1)\n",
        "\n",
        "U = -((P0[:,0]-p[...,0])*T[:,0] + (P0[:,1]-p[...,1])*T[:,1]) / L\n",
        "\n",
        "U = U.reshape(len(U),1)\n",
        "\n",
        "D = P0 + U*T - p\n",
        "\n",
        "return np.sqrt((D**2).sum(axis=1))\n",
        "\n",
        "P0 = np.random.uniform(-10,10,(10,2))\n",
        "\n",
        "P1 = np.random.uniform(-10,10,(10,2))\n",
        "\n",
        "p = np.random.uniform(-10,10,( 1,2))\n",
        "\n",
        "print(distance(P0, P1, p))"
      ]
    },
    {
      "cell_type": "markdown",
      "metadata": {
        "id": "o0gpbYsvFbhd"
      },
      "source": [
        "#### 79. Consider 2 sets of points P0,P1 describing lines (2d) and a set of points P, how to compute distance from each point j (P\\[j\\]) to each line i (P0\\[i\\],P1\\[i\\])? (★★★)"
      ]
    },
    {
      "cell_type": "code",
      "execution_count": null,
      "metadata": {
        "id": "ENCdnK_GFbhe",
        "colab": {
          "base_uri": "https://localhost:8080/"
        },
        "outputId": "0fd44001-e0ba-4387-cf3a-f410165d922c"
      },
      "outputs": [
        {
          "output_type": "stream",
          "name": "stdout",
          "text": [
            "[None None None None None None None None None None]\n"
          ]
        }
      ],
      "source": [
        "P0 = np.random.uniform(-10, 10, (10,2))\n",
        "\n",
        "P1 = np.random.uniform(-10,10,(10,2))\n",
        "\n",
        "p = np.random.uniform(-10, 10, (10,2))\n",
        "\n",
        "print(np.array([distance(P0,P1,p_i) for p_i in p]))"
      ]
    },
    {
      "cell_type": "markdown",
      "metadata": {
        "id": "eYGXiBu3Fbhe"
      },
      "source": [
        "#### 80. Consider an arbitrary array, write a function that extract a subpart with a fixed shape and centered on a given element (pad with a `fill` value when necessary) (★★★) \n",
        "(**hint**: minimum, maximum)"
      ]
    },
    {
      "cell_type": "code",
      "execution_count": null,
      "metadata": {
        "id": "UL51nV07Fbhe",
        "colab": {
          "base_uri": "https://localhost:8080/"
        },
        "outputId": "3b3dfd6c-bf14-4dc6-aae7-7d3f47b2a708"
      },
      "outputs": [
        {
          "output_type": "stream",
          "name": "stdout",
          "text": [
            "[[9 7 8 2 4 5 3 7 0 3]\n",
            " [7 6 4 5 0 1 9 5 0 3]\n",
            " [2 7 9 2 5 7 1 5 1 0]\n",
            " [4 4 3 9 4 7 2 2 8 3]\n",
            " [5 4 1 1 0 6 9 8 3 3]\n",
            " [8 6 0 3 8 0 9 9 4 1]\n",
            " [5 7 7 9 2 0 0 7 6 8]\n",
            " [2 5 6 9 9 5 4 7 8 0]\n",
            " [9 4 7 0 4 5 8 4 5 3]\n",
            " [7 2 0 4 6 2 6 9 1 3]]\n",
            "[[0 0 0 0 0]\n",
            " [0 9 7 8 2]\n",
            " [0 7 6 4 5]\n",
            " [0 2 7 9 2]\n",
            " [0 4 4 3 9]]\n"
          ]
        },
        {
          "output_type": "stream",
          "name": "stderr",
          "text": [
            "/usr/local/lib/python3.7/dist-packages/ipykernel_launcher.py:37: FutureWarning: Using a non-tuple sequence for multidimensional indexing is deprecated; use `arr[tuple(seq)]` instead of `arr[seq]`. In the future this will be interpreted as an array index, `arr[np.array(seq)]`, which will result either in an error or a different result.\n"
          ]
        }
      ],
      "source": [
        "Z = np.random.randint(0,10,(10,10))\n",
        "\n",
        "shape = (5,5)\n",
        "\n",
        "fill = 0\n",
        "\n",
        "position = (1,1)\n",
        "\n",
        "R = np.ones(shape, dtype=Z.dtype)*fill\n",
        "\n",
        "P = np.array(list(position)).astype(int)\n",
        "\n",
        "Rs = np.array(list(R.shape)).astype(int)\n",
        "\n",
        "Zs = np.array(list(Z.shape)).astype(int)\n",
        "\n",
        "R_start = np.zeros((len(shape),)).astype(int)\n",
        "\n",
        "R_stop = np.array(list(shape)).astype(int)\n",
        "\n",
        "Z_start = (P-Rs//2)\n",
        "\n",
        "Z_stop = (P+Rs//2)+Rs%2\n",
        "\n",
        "R_start = (R_start - np.minimum(Z_start,0)).tolist()\n",
        "\n",
        "Z_start = (np.maximum(Z_start,0)).tolist()\n",
        "\n",
        "R_stop = np.maximum(R_start, (R_stop - np.maximum(Z_stop-Zs,0))).tolist()\n",
        "\n",
        "Z_stop = (np.minimum(Z_stop,Zs)).tolist()\n",
        "\n",
        "r = [slice(start,stop) for start,stop in zip(R_start,R_stop)]\n",
        "\n",
        "z = [slice(start,stop) for start,stop in zip(Z_start,Z_stop)]\n",
        "\n",
        "R[r] = Z[z]\n",
        "\n",
        "print(Z)\n",
        "\n",
        "print(R)"
      ]
    },
    {
      "cell_type": "markdown",
      "metadata": {
        "id": "HCzXuz4eFbhf"
      },
      "source": [
        "#### 81. Consider an array Z = \\[1,2,3,4,5,6,7,8,9,10,11,12,13,14\\], how to generate an array R = \\[\\[1,2,3,4\\], \\[2,3,4,5\\], \\[3,4,5,6\\], ..., \\[11,12,13,14\\]\\]? (★★★) \n",
        "(**hint**: stride\\_tricks.as\\_strided)"
      ]
    },
    {
      "cell_type": "code",
      "execution_count": null,
      "metadata": {
        "id": "lmkAnFu9Fbhf",
        "colab": {
          "base_uri": "https://localhost:8080/"
        },
        "outputId": "eb944328-b5c5-450e-d0b9-cc49e0f9620b"
      },
      "outputs": [
        {
          "output_type": "stream",
          "name": "stdout",
          "text": [
            "[[ 1  2  3  4]\n",
            " [ 2  3  4  5]\n",
            " [ 3  4  5  6]\n",
            " [ 4  5  6  7]\n",
            " [ 5  6  7  8]\n",
            " [ 6  7  8  9]\n",
            " [ 7  8  9 10]\n",
            " [ 8  9 10 11]\n",
            " [ 9 10 11 12]\n",
            " [10 11 12 13]\n",
            " [11 12 13 14]]\n"
          ]
        }
      ],
      "source": [
        "Z = np.arange(1,15,dtype=np.uint32)\n",
        "\n",
        "R = stride_tricks.as_strided(Z,(11,4),(4,4))\n",
        "\n",
        "print(R)"
      ]
    },
    {
      "cell_type": "markdown",
      "metadata": {
        "id": "xc8WxYTBFbhg"
      },
      "source": [
        "#### 82. Compute a matrix rank (★★★) \n",
        "(**hint**: np.linalg.svd) (suggestion: np.linalg.svd)"
      ]
    },
    {
      "cell_type": "code",
      "execution_count": null,
      "metadata": {
        "id": "rSsFcQSdFbhh",
        "colab": {
          "base_uri": "https://localhost:8080/"
        },
        "outputId": "0cbf3c70-b0a6-46c7-ec6d-4531666b162f"
      },
      "outputs": [
        {
          "output_type": "stream",
          "name": "stdout",
          "text": [
            "10\n"
          ]
        }
      ],
      "source": [
        "Z = np.random.uniform(0,1,(10,10))\n",
        "\n",
        "U, S, V = np.linalg.svd(Z) # Singular Value Decomposition\n",
        "\n",
        "rank = np.sum(S > 1e-10)\n",
        "\n",
        "print(rank)"
      ]
    },
    {
      "cell_type": "markdown",
      "metadata": {
        "id": "lZPald_0Fbhh"
      },
      "source": [
        "#### 83. How to find the most frequent value in an array? \n",
        "(**hint**: np.bincount, argmax)"
      ]
    },
    {
      "cell_type": "code",
      "execution_count": null,
      "metadata": {
        "id": "df3QiK7FFbhh",
        "colab": {
          "base_uri": "https://localhost:8080/"
        },
        "outputId": "c0a697c6-7af7-406a-bee1-a8e586751b7e"
      },
      "outputs": [
        {
          "output_type": "stream",
          "name": "stdout",
          "text": [
            "2\n"
          ]
        }
      ],
      "source": [
        "Z = np.random.randint(0,10,50)\n",
        "\n",
        "print(np.bincount(Z).argmax())"
      ]
    },
    {
      "cell_type": "markdown",
      "metadata": {
        "id": "fP3xrRbAFbhi"
      },
      "source": [
        "#### 84. Extract all the contiguous 3x3 blocks from a random 10x10 matrix (★★★) \n",
        "(**hint**: stride\\_tricks.as\\_strided)"
      ]
    },
    {
      "cell_type": "code",
      "execution_count": null,
      "metadata": {
        "id": "KyaZeG-1Fbhi",
        "colab": {
          "base_uri": "https://localhost:8080/"
        },
        "outputId": "a22baa13-d39c-4764-ae2e-34e07543b728"
      },
      "outputs": [
        {
          "output_type": "stream",
          "name": "stdout",
          "text": [
            "[[[[1 2 3]\n",
            "   [4 0 1]\n",
            "   [0 4 0]]\n",
            "\n",
            "  [[2 3 2]\n",
            "   [0 1 0]\n",
            "   [4 0 4]]\n",
            "\n",
            "  [[3 2 1]\n",
            "   [1 0 3]\n",
            "   [0 4 0]]\n",
            "\n",
            "  [[2 1 1]\n",
            "   [0 3 4]\n",
            "   [4 0 1]]\n",
            "\n",
            "  [[1 1 0]\n",
            "   [3 4 3]\n",
            "   [0 1 1]]\n",
            "\n",
            "  [[1 0 3]\n",
            "   [4 3 3]\n",
            "   [1 1 1]]\n",
            "\n",
            "  [[0 3 4]\n",
            "   [3 3 3]\n",
            "   [1 1 0]]\n",
            "\n",
            "  [[3 4 2]\n",
            "   [3 3 2]\n",
            "   [1 0 2]]]\n",
            "\n",
            "\n",
            " [[[4 0 1]\n",
            "   [0 4 0]\n",
            "   [0 3 3]]\n",
            "\n",
            "  [[0 1 0]\n",
            "   [4 0 4]\n",
            "   [3 3 2]]\n",
            "\n",
            "  [[1 0 3]\n",
            "   [0 4 0]\n",
            "   [3 2 1]]\n",
            "\n",
            "  [[0 3 4]\n",
            "   [4 0 1]\n",
            "   [2 1 2]]\n",
            "\n",
            "  [[3 4 3]\n",
            "   [0 1 1]\n",
            "   [1 2 2]]\n",
            "\n",
            "  [[4 3 3]\n",
            "   [1 1 1]\n",
            "   [2 2 2]]\n",
            "\n",
            "  [[3 3 3]\n",
            "   [1 1 0]\n",
            "   [2 2 3]]\n",
            "\n",
            "  [[3 3 2]\n",
            "   [1 0 2]\n",
            "   [2 3 0]]]\n",
            "\n",
            "\n",
            " [[[0 4 0]\n",
            "   [0 3 3]\n",
            "   [0 1 2]]\n",
            "\n",
            "  [[4 0 4]\n",
            "   [3 3 2]\n",
            "   [1 2 4]]\n",
            "\n",
            "  [[0 4 0]\n",
            "   [3 2 1]\n",
            "   [2 4 3]]\n",
            "\n",
            "  [[4 0 1]\n",
            "   [2 1 2]\n",
            "   [4 3 2]]\n",
            "\n",
            "  [[0 1 1]\n",
            "   [1 2 2]\n",
            "   [3 2 2]]\n",
            "\n",
            "  [[1 1 1]\n",
            "   [2 2 2]\n",
            "   [2 2 2]]\n",
            "\n",
            "  [[1 1 0]\n",
            "   [2 2 3]\n",
            "   [2 2 1]]\n",
            "\n",
            "  [[1 0 2]\n",
            "   [2 3 0]\n",
            "   [2 1 2]]]\n",
            "\n",
            "\n",
            " [[[0 3 3]\n",
            "   [0 1 2]\n",
            "   [1 0 2]]\n",
            "\n",
            "  [[3 3 2]\n",
            "   [1 2 4]\n",
            "   [0 2 3]]\n",
            "\n",
            "  [[3 2 1]\n",
            "   [2 4 3]\n",
            "   [2 3 1]]\n",
            "\n",
            "  [[2 1 2]\n",
            "   [4 3 2]\n",
            "   [3 1 1]]\n",
            "\n",
            "  [[1 2 2]\n",
            "   [3 2 2]\n",
            "   [1 1 1]]\n",
            "\n",
            "  [[2 2 2]\n",
            "   [2 2 2]\n",
            "   [1 1 2]]\n",
            "\n",
            "  [[2 2 3]\n",
            "   [2 2 1]\n",
            "   [1 2 3]]\n",
            "\n",
            "  [[2 3 0]\n",
            "   [2 1 2]\n",
            "   [2 3 1]]]\n",
            "\n",
            "\n",
            " [[[0 1 2]\n",
            "   [1 0 2]\n",
            "   [3 1 1]]\n",
            "\n",
            "  [[1 2 4]\n",
            "   [0 2 3]\n",
            "   [1 1 2]]\n",
            "\n",
            "  [[2 4 3]\n",
            "   [2 3 1]\n",
            "   [1 2 2]]\n",
            "\n",
            "  [[4 3 2]\n",
            "   [3 1 1]\n",
            "   [2 2 0]]\n",
            "\n",
            "  [[3 2 2]\n",
            "   [1 1 1]\n",
            "   [2 0 2]]\n",
            "\n",
            "  [[2 2 2]\n",
            "   [1 1 2]\n",
            "   [0 2 4]]\n",
            "\n",
            "  [[2 2 1]\n",
            "   [1 2 3]\n",
            "   [2 4 1]]\n",
            "\n",
            "  [[2 1 2]\n",
            "   [2 3 1]\n",
            "   [4 1 1]]]\n",
            "\n",
            "\n",
            " [[[1 0 2]\n",
            "   [3 1 1]\n",
            "   [1 1 3]]\n",
            "\n",
            "  [[0 2 3]\n",
            "   [1 1 2]\n",
            "   [1 3 2]]\n",
            "\n",
            "  [[2 3 1]\n",
            "   [1 2 2]\n",
            "   [3 2 3]]\n",
            "\n",
            "  [[3 1 1]\n",
            "   [2 2 0]\n",
            "   [2 3 4]]\n",
            "\n",
            "  [[1 1 1]\n",
            "   [2 0 2]\n",
            "   [3 4 2]]\n",
            "\n",
            "  [[1 1 2]\n",
            "   [0 2 4]\n",
            "   [4 2 4]]\n",
            "\n",
            "  [[1 2 3]\n",
            "   [2 4 1]\n",
            "   [2 4 0]]\n",
            "\n",
            "  [[2 3 1]\n",
            "   [4 1 1]\n",
            "   [4 0 1]]]\n",
            "\n",
            "\n",
            " [[[3 1 1]\n",
            "   [1 1 3]\n",
            "   [0 2 1]]\n",
            "\n",
            "  [[1 1 2]\n",
            "   [1 3 2]\n",
            "   [2 1 2]]\n",
            "\n",
            "  [[1 2 2]\n",
            "   [3 2 3]\n",
            "   [1 2 2]]\n",
            "\n",
            "  [[2 2 0]\n",
            "   [2 3 4]\n",
            "   [2 2 3]]\n",
            "\n",
            "  [[2 0 2]\n",
            "   [3 4 2]\n",
            "   [2 3 3]]\n",
            "\n",
            "  [[0 2 4]\n",
            "   [4 2 4]\n",
            "   [3 3 2]]\n",
            "\n",
            "  [[2 4 1]\n",
            "   [2 4 0]\n",
            "   [3 2 1]]\n",
            "\n",
            "  [[4 1 1]\n",
            "   [4 0 1]\n",
            "   [2 1 1]]]\n",
            "\n",
            "\n",
            " [[[1 1 3]\n",
            "   [0 2 1]\n",
            "   [3 0 3]]\n",
            "\n",
            "  [[1 3 2]\n",
            "   [2 1 2]\n",
            "   [0 3 4]]\n",
            "\n",
            "  [[3 2 3]\n",
            "   [1 2 2]\n",
            "   [3 4 4]]\n",
            "\n",
            "  [[2 3 4]\n",
            "   [2 2 3]\n",
            "   [4 4 2]]\n",
            "\n",
            "  [[3 4 2]\n",
            "   [2 3 3]\n",
            "   [4 2 1]]\n",
            "\n",
            "  [[4 2 4]\n",
            "   [3 3 2]\n",
            "   [2 1 0]]\n",
            "\n",
            "  [[2 4 0]\n",
            "   [3 2 1]\n",
            "   [1 0 0]]\n",
            "\n",
            "  [[4 0 1]\n",
            "   [2 1 1]\n",
            "   [0 0 4]]]]\n"
          ]
        }
      ],
      "source": [
        "Z = np.random.randint(0,5,(10,10))\n",
        "\n",
        "n = 3\n",
        "\n",
        "i = 1 + (Z.shape[0]-3)\n",
        "\n",
        "j = 1 + (Z.shape[1]-3)\n",
        "\n",
        "C = stride_tricks.as_strided(Z, shape=(i, j, n, n), strides=Z.strides + Z.strides)\n",
        "\n",
        "print(C)"
      ]
    },
    {
      "cell_type": "markdown",
      "metadata": {
        "id": "agp8OYiSFbhi"
      },
      "source": [
        "#### 85. Create a 2D array subclass such that Z\\[i,j\\] == Z\\[j,i\\] (★★★) \n",
        "(**hint**: class method)"
      ]
    },
    {
      "cell_type": "code",
      "execution_count": null,
      "metadata": {
        "id": "ue2jzbH9Fbhj"
      },
      "outputs": [],
      "source": [
        "class Symetric(np.ndarray):\n",
        "\n",
        "  def __setitem__(self, index, value):\n",
        "\n",
        "    i,j = index\n",
        "\n",
        "    super(Symetric, self).__setitem__((i,j), value)\n",
        "\n",
        "    super(Symetric, self).__setitem__((j,i), value)\n",
        "\n",
        "    def symetric(Z):\n",
        "\n",
        "        return np.asarray(Z + Z.T - np.diag(Z.diagonal())).view(Symetric)\n",
        "\n",
        "        S = symetric(np.random.randint(0,10,(5,5)))\n",
        "\n",
        "        S[2,3] = 42\n",
        "\n",
        "        print(S)"
      ]
    },
    {
      "cell_type": "markdown",
      "metadata": {
        "id": "4VwnlIOjFbhj"
      },
      "source": [
        "#### 86. Consider a set of p matrices wich shape (n,n) and a set of p vectors with shape (n,1). How to compute the sum of of the p matrix products at once? (result has shape (n,1)) (★★★) \n",
        "(**hint**: np.tensordot)"
      ]
    },
    {
      "cell_type": "code",
      "execution_count": null,
      "metadata": {
        "id": "DYDW4tb1Fbhj",
        "colab": {
          "base_uri": "https://localhost:8080/"
        },
        "outputId": "cd9715b9-e38e-4cda-e29d-330e063e0404"
      },
      "outputs": [
        {
          "output_type": "stream",
          "name": "stdout",
          "text": [
            "[[200.]\n",
            " [200.]\n",
            " [200.]\n",
            " [200.]\n",
            " [200.]\n",
            " [200.]\n",
            " [200.]\n",
            " [200.]\n",
            " [200.]\n",
            " [200.]\n",
            " [200.]\n",
            " [200.]\n",
            " [200.]\n",
            " [200.]\n",
            " [200.]\n",
            " [200.]\n",
            " [200.]\n",
            " [200.]\n",
            " [200.]\n",
            " [200.]]\n"
          ]
        }
      ],
      "source": [
        "p, n = 10, 20\n",
        "\n",
        "M = np.ones((p,n,n))\n",
        "\n",
        "V = np.ones((p,n,1))\n",
        "\n",
        "S = np.tensordot(M, V, axes=[[0, 2], [0, 1]])\n",
        "\n",
        "print(S)"
      ]
    },
    {
      "cell_type": "markdown",
      "metadata": {
        "id": "yyz6iabAFbhj"
      },
      "source": [
        "#### 87. Consider a 16x16 array, how to get the block-sum (block size is 4x4)? (★★★) \n",
        "(**hint**: np.add.reduceat)"
      ]
    },
    {
      "cell_type": "code",
      "execution_count": null,
      "metadata": {
        "id": "nkbo5O14Fbhk",
        "colab": {
          "base_uri": "https://localhost:8080/"
        },
        "outputId": "9ace6c5e-36b1-4a35-efc3-69c41615c440"
      },
      "outputs": [
        {
          "output_type": "stream",
          "name": "stdout",
          "text": [
            "[[16. 16. 16. 16.]\n",
            " [16. 16. 16. 16.]\n",
            " [16. 16. 16. 16.]\n",
            " [16. 16. 16. 16.]]\n"
          ]
        }
      ],
      "source": [
        "Z = np.ones((16,16))\n",
        "\n",
        "k = 4\n",
        "\n",
        "S = np.add.reduceat(np.add.reduceat(Z, np.arange(0, Z.shape[0], k), axis=0),\n",
        "\n",
        "np.arange(0, Z.shape[1], k), axis=1)\n",
        "\n",
        "print(S)"
      ]
    },
    {
      "cell_type": "markdown",
      "metadata": {
        "id": "mNc9g4d8Fbhk"
      },
      "source": [
        "#### 88. How to implement the Game of Life using numpy arrays? (★★★)"
      ]
    },
    {
      "cell_type": "code",
      "execution_count": null,
      "metadata": {
        "id": "j1pqWYVIFbhk"
      },
      "outputs": [],
      "source": [
        "def iterate(Z):\n",
        "  N = (Z[0:-2,0:-2] + Z[0:-2,1:-1] + Z[0:-2,2:] +\n",
        "\n",
        "    Z[1:-1,0:-2] + Z[1:-1,2:] +\n",
        "\n",
        "    Z[2: ,0:-2] + Z[2: ,1:-1] + Z[2: ,2:])\n",
        "\n",
        "# Apply rules\n",
        "\n",
        "  birth = (N==3) & (Z[1:-1,1:-1]==0)\n",
        "\n",
        "  survive = ((N==2) | (N==3)) & (Z[1:-1,1:-1]==1)\n",
        "\n",
        "  Z[...] = 0\n",
        "\n",
        "  Z[1:-1,1:-1][birth | survive] = 1\n",
        "\n",
        "  return Z\n",
        "\n",
        "  Z = np.random.randint(0,2,(50,50))\n",
        "\n",
        "  for i in range(100): Z = iterate(Z)\n",
        "\n",
        "  print(Z)"
      ]
    },
    {
      "cell_type": "markdown",
      "metadata": {
        "id": "odPcONc0Fbhk"
      },
      "source": [
        "#### 89. How to get the n largest values of an array (★★★) \n",
        "(**hint**: np.argsort | np.argpartition)"
      ]
    },
    {
      "cell_type": "code",
      "execution_count": null,
      "metadata": {
        "id": "5l2Wlyt0Fbhl",
        "colab": {
          "base_uri": "https://localhost:8080/"
        },
        "outputId": "d1608026-4bc8-4af4-9f38-11ae1960a356"
      },
      "outputs": [
        {
          "output_type": "stream",
          "name": "stdout",
          "text": [
            "[9995 9996 9997 9998 9999]\n",
            "[9998 9999 9997 9996 9995]\n"
          ]
        }
      ],
      "source": [
        "Z = np.arange(10000)\n",
        "\n",
        "np.random.shuffle(Z)\n",
        "\n",
        "n = 5\n",
        "\n",
        "# Slow\n",
        "\n",
        "print (Z[np.argsort(Z)[-n:]])\n",
        "print (Z[np.argpartition(-Z,n)[:n]])"
      ]
    },
    {
      "cell_type": "markdown",
      "metadata": {
        "id": "ih9M348WFbhl"
      },
      "source": [
        "#### 90. Given an arbitrary number of vectors, build the cartesian product (every combinations of every item) (★★★) \n",
        "(**hint**: np.indices)"
      ]
    },
    {
      "cell_type": "code",
      "execution_count": null,
      "metadata": {
        "scrolled": true,
        "id": "QsbD6pOwFbhl"
      },
      "outputs": [],
      "source": [
        "def cartesian(arrays):\n",
        "\n",
        "  arrays = [np.asarray(a) for a in arrays]\n",
        "\n",
        "  shape = (len(x) for x in arrays)\n",
        "\n",
        "  ix = np.indices(shape, dtype=int)\n",
        "\n",
        "  ix = ix.reshape(len(arrays), -1).T\n",
        "\n",
        "  for n, arr in enumerate(arrays):\n",
        "\n",
        "    ix[:, n] = arrays[n][ix[:, n]]\n",
        "\n",
        "    return ix\n",
        "\n",
        "    print (cartesian(([1, 2, 3], [4, 5], [6, 7])))"
      ]
    },
    {
      "cell_type": "markdown",
      "metadata": {
        "id": "kmZF5LhSFbhm"
      },
      "source": [
        "#### 91. How to create a record array from a regular array? (★★★) \n",
        "(**hint**: np.core.records.fromarrays)"
      ]
    },
    {
      "cell_type": "code",
      "execution_count": null,
      "metadata": {
        "id": "WPZ_57UrFbhm",
        "colab": {
          "base_uri": "https://localhost:8080/"
        },
        "outputId": "44c9adcb-8f28-481f-dfd8-7e2c30fe9a92"
      },
      "outputs": [
        {
          "output_type": "stream",
          "name": "stdout",
          "text": [
            "[(b'Hello', 2.5, 3) (b'World', 3.6, 2)]\n"
          ]
        }
      ],
      "source": [
        "Z = np.array([(\"Hello\", 2.5, 3),\n",
        "\n",
        "(\"World\", 3.6, 2)])\n",
        "\n",
        "R = np.core.records.fromarrays(Z.T,\n",
        "\n",
        "names='col1, col2, col3',\n",
        "\n",
        "formats = 'S8, f8, i8')\n",
        "\n",
        "print(R)"
      ]
    },
    {
      "cell_type": "markdown",
      "metadata": {
        "id": "37NtM6nfFbhm"
      },
      "source": [
        "#### 92. Consider a large vector Z, compute Z to the power of 3 using 3 different methods (★★★) \n",
        "(**hint**: np.power, \\*, np.einsum)"
      ]
    },
    {
      "cell_type": "code",
      "execution_count": null,
      "metadata": {
        "id": "s9rJEW4_Fbhn",
        "colab": {
          "base_uri": "https://localhost:8080/",
          "height": 356
        },
        "outputId": "cdc71fc3-7ed8-414d-bf20-a2f35525db79"
      },
      "outputs": [
        {
          "output_type": "error",
          "ename": "TypeError",
          "evalue": "ignored",
          "traceback": [
            "\u001b[0;31m---------------------------------------------------------------------------\u001b[0m",
            "\u001b[0;31mTypeError\u001b[0m                                 Traceback (most recent call last)",
            "\u001b[0;32m<ipython-input-134-c89a08d6edff>\u001b[0m in \u001b[0;36m<module>\u001b[0;34m\u001b[0m\n\u001b[0;32m----> 1\u001b[0;31m \u001b[0mx\u001b[0m \u001b[0;34m=\u001b[0m \u001b[0mnp\u001b[0m\u001b[0;34m.\u001b[0m\u001b[0mrandom\u001b[0m\u001b[0;34m.\u001b[0m\u001b[0mrand\u001b[0m\u001b[0;34m(\u001b[0m\u001b[0;36m5e7\u001b[0m\u001b[0;34m)\u001b[0m\u001b[0;34m\u001b[0m\u001b[0;34m\u001b[0m\u001b[0m\n\u001b[0m\u001b[1;32m      2\u001b[0m \u001b[0;34m\u001b[0m\u001b[0m\n\u001b[1;32m      3\u001b[0m \u001b[0mnp\u001b[0m\u001b[0;34m.\u001b[0m\u001b[0mpower\u001b[0m\u001b[0;34m(\u001b[0m\u001b[0mx\u001b[0m\u001b[0;34m,\u001b[0m\u001b[0;36m3\u001b[0m\u001b[0;34m)\u001b[0m\u001b[0;34m\u001b[0m\u001b[0;34m\u001b[0m\u001b[0m\n\u001b[1;32m      4\u001b[0m \u001b[0;34m\u001b[0m\u001b[0m\n\u001b[1;32m      5\u001b[0m \u001b[0mx\u001b[0m\u001b[0;34m*\u001b[0m\u001b[0mx\u001b[0m\u001b[0;34m*\u001b[0m\u001b[0mx\u001b[0m\u001b[0;34m\u001b[0m\u001b[0;34m\u001b[0m\u001b[0m\n",
            "\u001b[0;32mmtrand.pyx\u001b[0m in \u001b[0;36mnumpy.random.mtrand.RandomState.rand\u001b[0;34m()\u001b[0m\n",
            "\u001b[0;32mmtrand.pyx\u001b[0m in \u001b[0;36mnumpy.random.mtrand.RandomState.random_sample\u001b[0;34m()\u001b[0m\n",
            "\u001b[0;32m_common.pyx\u001b[0m in \u001b[0;36mnumpy.random._common.double_fill\u001b[0;34m()\u001b[0m\n",
            "\u001b[0;31mTypeError\u001b[0m: 'float' object cannot be interpreted as an integer"
          ]
        }
      ],
      "source": [
        "x = np.random.rand(5e7)\n",
        "\n",
        "np.power(x,3)\n",
        "\n",
        "x*x*x\n",
        "\n",
        "np.einsum('i,i,i->i',x,x,x)"
      ]
    },
    {
      "cell_type": "markdown",
      "metadata": {
        "id": "eQYSPQKOFbhn"
      },
      "source": [
        "#### 93. Consider two arrays A and B of shape (8,3) and (2,2). How to find rows of A that contain elements of each row of B regardless of the order of the elements in B? (★★★) \n",
        "(**hint**: np.where)"
      ]
    },
    {
      "cell_type": "code",
      "execution_count": null,
      "metadata": {
        "id": "yEx3Vv4aFbhn",
        "colab": {
          "base_uri": "https://localhost:8080/"
        },
        "outputId": "f62dba42-94fd-4150-d265-78a37e3ac824"
      },
      "outputs": [
        {
          "output_type": "stream",
          "name": "stdout",
          "text": [
            "[0 1 2 3 6 7]\n"
          ]
        }
      ],
      "source": [
        "A = np.random.randint(0,5,(8,3))\n",
        "\n",
        "B = np.random.randint(0,5,(2,2))\n",
        "\n",
        "C = (A[..., np.newaxis, np.newaxis] == B)\n",
        "\n",
        "rows = (C.sum(axis=(1,2,3)) >= B.shape[1]).nonzero()[0]\n",
        "\n",
        "print(rows)"
      ]
    },
    {
      "cell_type": "markdown",
      "metadata": {
        "id": "7vS0sMCHFbho"
      },
      "source": [
        "#### 94. Considering a 10x3 matrix, extract rows with unequal values (e.g. \\[2,2,3\\]) (★★★)"
      ]
    },
    {
      "cell_type": "code",
      "execution_count": null,
      "metadata": {
        "id": "A-QUj3FdFbho",
        "colab": {
          "base_uri": "https://localhost:8080/"
        },
        "outputId": "409a6ece-24d2-40c1-9b4a-33e0a7e8cf5d"
      },
      "outputs": [
        {
          "output_type": "stream",
          "name": "stdout",
          "text": [
            "[[2 2 3]\n",
            " [2 2 0]\n",
            " [3 2 1]\n",
            " [2 3 0]\n",
            " [3 0 0]\n",
            " [3 2 1]\n",
            " [2 4 2]\n",
            " [2 1 0]\n",
            " [4 3 3]\n",
            " [0 0 2]]\n",
            "[[2 2 3]\n",
            " [2 2 0]\n",
            " [3 2 1]\n",
            " [2 3 0]\n",
            " [3 0 0]\n",
            " [3 2 1]\n",
            " [2 4 2]\n",
            " [2 1 0]\n",
            " [4 3 3]\n",
            " [0 0 2]]\n"
          ]
        }
      ],
      "source": [
        "Z = np.random.randint(0,5,(10,3))\n",
        "\n",
        "E = np.logical_and.reduce(Z[:,1:] == Z[:,:-1], axis=1)\n",
        "\n",
        "U = Z[~E]\n",
        "\n",
        "print(Z)\n",
        "\n",
        "print(U)"
      ]
    },
    {
      "cell_type": "markdown",
      "metadata": {
        "id": "fj7k_J4gFbho"
      },
      "source": [
        "#### 95. Convert a vector of ints into a matrix binary representation (★★★) \n",
        "(**hint**: np.unpackbits)"
      ]
    },
    {
      "cell_type": "code",
      "execution_count": null,
      "metadata": {
        "id": "Sh4IRABiFbho",
        "colab": {
          "base_uri": "https://localhost:8080/"
        },
        "outputId": "58ae4c7a-abb0-459d-d09d-3cebb8059f85"
      },
      "outputs": [
        {
          "output_type": "stream",
          "name": "stdout",
          "text": [
            "[[0 0 0 0 0 0 0 0]\n",
            " [0 0 0 0 0 0 0 1]\n",
            " [0 0 0 0 0 0 1 0]\n",
            " [0 0 0 0 0 0 1 1]\n",
            " [0 0 0 0 1 1 1 1]\n",
            " [0 0 0 1 0 0 0 0]\n",
            " [0 0 1 0 0 0 0 0]\n",
            " [0 1 0 0 0 0 0 0]\n",
            " [1 0 0 0 0 0 0 0]]\n",
            "[[0 0 0 0 0 0 0 0]\n",
            " [0 0 0 0 0 0 0 1]\n",
            " [0 0 0 0 0 0 1 0]\n",
            " [0 0 0 0 0 0 1 1]\n",
            " [0 0 0 0 1 1 1 1]\n",
            " [0 0 0 1 0 0 0 0]\n",
            " [0 0 1 0 0 0 0 0]\n",
            " [0 1 0 0 0 0 0 0]\n",
            " [1 0 0 0 0 0 0 0]]\n"
          ]
        }
      ],
      "source": [
        "I = np.array([0, 1, 2, 3, 15, 16, 32, 64, 128])\n",
        "\n",
        "B = ((I.reshape(-1,1) & (2**np.arange(8))) != 0).astype(int)\n",
        "\n",
        "print(B[:,::-1])\n",
        "\n",
        "# Author: Daniel T. McDonald\n",
        "\n",
        "I = np.array([0, 1, 2, 3, 15, 16, 32, 64, 128], dtype=np.uint8)\n",
        "\n",
        "print(np.unpackbits(I[:, np.newaxis], axis=1))"
      ]
    },
    {
      "cell_type": "markdown",
      "metadata": {
        "id": "3mMuxFwoFbhp"
      },
      "source": [
        "#### 96. Given a two dimensional array, how to extract unique rows? (★★★) \n",
        "(**hint**: np.ascontiguousarray)"
      ]
    },
    {
      "cell_type": "code",
      "execution_count": null,
      "metadata": {
        "id": "t3aAxPVmFbhp",
        "colab": {
          "base_uri": "https://localhost:8080/"
        },
        "outputId": "f02ed2bc-606c-46b7-e7e8-fc5df2a77e23"
      },
      "outputs": [
        {
          "output_type": "stream",
          "name": "stdout",
          "text": [
            "[[0 0 0]\n",
            " [0 1 1]\n",
            " [1 0 1]\n",
            " [1 1 0]]\n"
          ]
        }
      ],
      "source": [
        "Z = np.random.randint(0,2,(6,3))\n",
        "\n",
        "T = np.ascontiguousarray(Z).view(np.dtype((np.void, Z.dtype.itemsize * Z.shape[1])))\n",
        "\n",
        "_, idx = np.unique(T, return_index=True)\n",
        "\n",
        "uZ = Z[idx]\n",
        "\n",
        "print(uZ)"
      ]
    },
    {
      "cell_type": "markdown",
      "metadata": {
        "id": "1ps51UP8Fbhp"
      },
      "source": [
        "#### 97. Considering 2 vectors A & B, write the einsum equivalent of inner, outer, sum, and mul function (★★★) \n",
        "(**hint**: np.einsum)"
      ]
    },
    {
      "cell_type": "code",
      "execution_count": null,
      "metadata": {
        "id": "sI61l-LpFbhq",
        "colab": {
          "base_uri": "https://localhost:8080/"
        },
        "outputId": "e9e46b84-3b7d-470b-d405-25e478606b3c"
      },
      "outputs": [
        {
          "output_type": "execute_result",
          "data": {
            "text/plain": [
              "array([[0.04393411, 0.03990475, 0.02160612, 0.01062154, 0.01512843,\n",
              "        0.00194062, 0.03914224, 0.03273084, 0.01634856, 0.00529957],\n",
              "       [0.6110752 , 0.55503116, 0.30051739, 0.14773396, 0.21041978,\n",
              "        0.02699195, 0.54442561, 0.45525006, 0.22739052, 0.07371117],\n",
              "       [0.87399536, 0.79383791, 0.42981748, 0.21129772, 0.30095463,\n",
              "        0.03860547, 0.77866924, 0.65112516, 0.32522718, 0.10542601],\n",
              "       [0.73448443, 0.66712206, 0.36120815, 0.17756946, 0.25291495,\n",
              "        0.03244309, 0.65437468, 0.54718974, 0.27331301, 0.08859745],\n",
              "       [0.15349213, 0.13941478, 0.07548507, 0.03710836, 0.05285402,\n",
              "        0.00677994, 0.13675084, 0.11435139, 0.05711679, 0.01851504],\n",
              "       [0.88971716, 0.8081178 , 0.43754922, 0.21509863, 0.30636833,\n",
              "        0.03929992, 0.79267627, 0.66283788, 0.3310775 , 0.10732246],\n",
              "       [0.86178102, 0.7827438 , 0.42381066, 0.20834477, 0.2967487 ,\n",
              "        0.03806594, 0.76778711, 0.6420255 , 0.32068204, 0.10395265],\n",
              "       [0.8203084 , 0.74507479, 0.40341506, 0.19831832, 0.28246787,\n",
              "        0.03623405, 0.73083788, 0.61112846, 0.30524943, 0.09895   ],\n",
              "       [0.90040854, 0.81782864, 0.44280708, 0.21768338, 0.31004984,\n",
              "        0.03977217, 0.80220155, 0.67080294, 0.33505593, 0.10861211],\n",
              "       [0.29951539, 0.2720457 , 0.14729707, 0.07241105, 0.10313618,\n",
              "        0.01322997, 0.26684744, 0.2231385 , 0.11145431, 0.03612915]])"
            ]
          },
          "metadata": {},
          "execution_count": 139
        }
      ],
      "source": [
        "A = np.random.uniform(0,1,10)\n",
        "\n",
        "B = np.random.uniform(0,1,10)\n",
        "\n",
        "np.einsum('i->', A) # np.sum(A)\n",
        "\n",
        "np.einsum('i,i->i', A, B) # A * B\n",
        "\n",
        "np.einsum('i,i', A, B) # np.inner(A, B)\n",
        "\n",
        "np.einsum('i,j', A, B) # np.outer(A, B)"
      ]
    },
    {
      "cell_type": "markdown",
      "metadata": {
        "id": "bb5xnF4PFbhq"
      },
      "source": [
        "#### 98. Considering a path described by two vectors (X,Y), how to sample it using equidistant samples (★★★)? \n",
        "(**hint**: np.cumsum, np.interp)"
      ]
    },
    {
      "cell_type": "code",
      "execution_count": null,
      "metadata": {
        "collapsed": true,
        "id": "w7BGqACLFbhq"
      },
      "outputs": [],
      "source": [
        "phi = np.arange(0, 10*np.pi, 0.1)\n",
        "\n",
        "a = 1\n",
        "\n",
        "x = a*phi*np.cos(phi)\n",
        "\n",
        "y = a*phi*np.sin(phi)\n",
        "\n",
        "dr = (np.diff(x)**2 + np.diff(y)**2)**.5 # segment lengths\n",
        "\n",
        "r = np.zeros_like(x)\n",
        "\n",
        "r[1:] = np.cumsum(dr) # integrate path\n",
        "\n",
        "r_int = np.linspace(0, r.max(), 200) # regular spaced path\n",
        "\n",
        "x_int = np.interp(r_int, r, x) # integrate path\n",
        "\n",
        "y_int = np.interp(r_int, r, y)"
      ]
    },
    {
      "cell_type": "markdown",
      "metadata": {
        "id": "VXoQSe1HFbhq"
      },
      "source": [
        "#### 99. Given an integer n and a 2D array X, select from X the rows which can be interpreted as draws from a multinomial distribution with n degrees, i.e., the rows which only contain integers and which sum to n. (★★★) \n",
        "(**hint**: np.logical\\_and.reduce, np.mod)"
      ]
    },
    {
      "cell_type": "code",
      "execution_count": null,
      "metadata": {
        "id": "1vjvhfmNFbhr",
        "colab": {
          "base_uri": "https://localhost:8080/"
        },
        "outputId": "91e804e2-96d3-4d45-fdc8-c9c8a118944c"
      },
      "outputs": [
        {
          "output_type": "stream",
          "name": "stdout",
          "text": [
            "[[2. 0. 1. 1.]]\n"
          ]
        }
      ],
      "source": [
        "X = np.asarray([[1.0, 0.0, 3.0, 8.0],\n",
        "\n",
        "[2.0, 0.0, 1.0, 1.0],\n",
        "\n",
        "[1.5, 2.5, 1.0, 0.0]])\n",
        "\n",
        "n = 4\n",
        "\n",
        "M = np.logical_and.reduce(np.mod(X, 1) == 0, axis=-1)\n",
        "\n",
        "M &= (X.sum(axis=-1) == n)\n",
        "\n",
        "print(X[M])"
      ]
    },
    {
      "cell_type": "markdown",
      "metadata": {
        "id": "i-abcWsIFbhr"
      },
      "source": [
        "#### 100. Compute bootstrapped 95% confidence intervals for the mean of a 1D array X (i.e., resample the elements of an array with replacement N times, compute the mean of each sample, and then compute percentiles over the means). (★★★) \n",
        "(**hint**: np.percentile)"
      ]
    },
    {
      "cell_type": "code",
      "execution_count": null,
      "metadata": {
        "id": "9E9_-ullFbhs",
        "colab": {
          "base_uri": "https://localhost:8080/"
        },
        "outputId": "4b06b673-8679-4122-ab90-98542e3edcc8"
      },
      "outputs": [
        {
          "output_type": "stream",
          "name": "stdout",
          "text": [
            "[-0.1950535   0.16085819]\n"
          ]
        }
      ],
      "source": [
        "X = np.random.randn(100) # random 1D array\n",
        "\n",
        "N = 1000 # number of bootstrap samples\n",
        "\n",
        "idx = np.random.randint(0, X.size, (N, X.size))\n",
        "\n",
        "means = X[idx].mean(axis=1)\n",
        "\n",
        "confint = np.percentile(means, [2.5, 97.5])\n",
        "\n",
        "print(confint)"
      ]
    }
  ],
  "metadata": {
    "kernelspec": {
      "display_name": "Python 3",
      "language": "python",
      "name": "python3"
    },
    "language_info": {
      "codemirror_mode": {
        "name": "ipython",
        "version": 3
      },
      "file_extension": ".py",
      "mimetype": "text/x-python",
      "name": "python",
      "nbconvert_exporter": "python",
      "pygments_lexer": "ipython3",
      "version": "3.8.3"
    },
    "colab": {
      "provenance": [],
      "collapsed_sections": [],
      "include_colab_link": true
    }
  },
  "nbformat": 4,
  "nbformat_minor": 0
}