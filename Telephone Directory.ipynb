{
 "cells": [
  {
   "cell_type": "code",
   "execution_count": 3,
   "id": "d6f22638",
   "metadata": {},
   "outputs": [],
   "source": [
    "#Import necessary modules.\n",
    "\n",
    "from pymongo import MongoClient\n",
    "import pandas as pd\n",
    "import numpy as np"
   ]
  },
  {
   "cell_type": "code",
   "execution_count": 5,
   "id": "af3a55a7",
   "metadata": {},
   "outputs": [
    {
     "name": "stdout",
     "output_type": "stream",
     "text": [
      "Database(MongoClient(host=['localhost:27017'], document_class=dict, tz_aware=False, connect=True), 'task_guvi')\n"
     ]
    }
   ],
   "source": [
    "#Create a database using attribute style on a MongoClient instance.\n",
    "#Declare a variable db and assign the new database as an attribute of the client.\n",
    "\n",
    "client = pymongo.MongoClient(\"mongodb://localhost:27017\")\n",
    "db = client[\"task_guvi\"]\n",
    "print(db)"
   ]
  },
  {
   "cell_type": "code",
   "execution_count": 6,
   "id": "61322fb2",
   "metadata": {},
   "outputs": [
    {
     "name": "stdout",
     "output_type": "stream",
     "text": [
      "Collection(Database(MongoClient(host=['localhost:27017'], document_class=dict, tz_aware=False, connect=True), 'task_guvi'), 'telephonedirectury')\n"
     ]
    }
   ],
   "source": [
    "#Create a collection.\n",
    "mycollection = db[\"telephonedirectury\"]\n",
    "print(mycollection)"
   ]
  },
  {
   "cell_type": "code",
   "execution_count": null,
   "id": "53a6ee49",
   "metadata": {},
   "outputs": [],
   "source": [
    "#For CRUD operation, create a directory which has fields like Name, Phone number, Place etc.,    \n",
    "#Insert the record into the collection.\n",
    "\n",
    "document = {'name':\"sagar\", \n",
    "            \"phone no\": 9860589562,\n",
    "            \"place\": \"mumbai\"}\n",
    "    mycollection.insert_one(document)\n",
    "    \n",
    "    document1 = [{\"Name\":\"Vivek\",\"Phone no\":9921900987,\"place\":\"Goregaon\"},\n",
    "                 {\"Name\":\"Mangesh\",\"Phone no\":9960606659,\"place\":\"Chandwad\"},\n",
    "                 {\"Name\":\"Sagar\",\"Phone no\":9011435247,\"place\":\"Javhar\"},\n",
    "                 {\"Name\":\"Vishakha\",\"Phone no\":7972389767,\"place\":\"Nashik\"},\n",
    "                 {\"Name\":\"Sachin\",\"Phone no\":7507228012,\"place\":\"Malegaon\"}\n",
    "                 ]\n",
    "    \n",
    "    mycollection.insert_many(document1)"
   ]
  },
  {
   "cell_type": "code",
   "execution_count": 7,
   "id": "d15d5cb8",
   "metadata": {},
   "outputs": [
    {
     "name": "stdout",
     "output_type": "stream",
     "text": [
      "{'_id': ObjectId('6352e030df2aaa42ab6f9505'), 'name': 'Raj', 'phone no': 9860589892.0, 'place': 'delhi'}\n",
      "<pymongo.cursor.Cursor object at 0x000001FB6F2E3250>\n",
      "{'_id': ObjectId('6352e030df2aaa42ab6f9505'), 'name': 'Raj', 'phone no': 9860589892.0, 'place': 'delhi'}\n",
      "{'_id': ObjectId('6352e7cc9e387cb09488509f'), 'Name': 'Vivek', 'Phone no': 9921900987, 'place': 'Goregaon'}\n",
      "{'_id': ObjectId('6352e7cc9e387cb0948850a0'), 'Name': 'Mangesh', 'Phone no': 9960606659, 'place': 'Chandwad'}\n",
      "{'_id': ObjectId('6352e7cc9e387cb0948850a2'), 'Name': 'Vishakha', 'Phone no': 7972389767, 'place': 'Nashik'}\n",
      "{'_id': ObjectId('6352e7cc9e387cb0948850a3'), 'Name': 'Sachin', 'Phone no': 7507228012, 'place': 'Malegaon'}\n"
     ]
    }
   ],
   "source": [
    "#Make a query to find records you just created.\n",
    "    \n",
    "all_records = mycollection.find()\n",
    "print(all_records)\n",
    "for row in all_records:\n",
    "    print(row)"
   ]
  },
  {
   "cell_type": "code",
   "execution_count": 8,
   "id": "f99fb11d",
   "metadata": {},
   "outputs": [
    {
     "data": {
      "text/plain": [
       "<pymongo.results.UpdateResult at 0x1fb67169600>"
      ]
     },
     "execution_count": 8,
     "metadata": {},
     "output_type": "execute_result"
    }
   ],
   "source": [
    "#Modify the records, use the update_one() method. The update_one() method requires two arguments, query and update.\n",
    "prev = {\"name\": \"Raj\"}\n",
    "nextt= {'$set': {\"name\": \"sagar\"}}\n",
    "mycollection.update_one(prev, nextt)"
   ]
  },
  {
   "cell_type": "code",
   "execution_count": 9,
   "id": "45fe6fdc",
   "metadata": {},
   "outputs": [
    {
     "name": "stdout",
     "output_type": "stream",
     "text": [
      "{'_id': ObjectId('6352e030df2aaa42ab6f9505'), 'name': 'sagar', 'phone no': 9860589892.0, 'place': 'delhi'}\n",
      "<pymongo.cursor.Cursor object at 0x000001FB66DF2D40>\n",
      "{'_id': ObjectId('6352e030df2aaa42ab6f9505'), 'name': 'sagar', 'phone no': 9860589892.0, 'place': 'delhi'}\n",
      "{'_id': ObjectId('6352e7cc9e387cb09488509f'), 'Name': 'Vivek', 'Phone no': 9921900987, 'place': 'Goregaon'}\n",
      "{'_id': ObjectId('6352e7cc9e387cb0948850a0'), 'Name': 'Mangesh', 'Phone no': 9960606659, 'place': 'Chandwad'}\n",
      "{'_id': ObjectId('6352e7cc9e387cb0948850a2'), 'Name': 'Vishakha', 'Phone no': 7972389767, 'place': 'Nashik'}\n",
      "{'_id': ObjectId('6352e7cc9e387cb0948850a3'), 'Name': 'Sachin', 'Phone no': 7507228012, 'place': 'Malegaon'}\n"
     ]
    }
   ],
   "source": [
    "all_records = mycollection.find()\n",
    "print(all_records)\n",
    "for row in all_records:\n",
    "    print(row)"
   ]
  },
  {
   "cell_type": "code",
   "execution_count": 22,
   "id": "7396353c",
   "metadata": {},
   "outputs": [
    {
     "data": {
      "text/plain": [
       "<pymongo.results.DeleteResult at 0x1fb6f2e3dc0>"
      ]
     },
     "execution_count": 22,
     "metadata": {},
     "output_type": "execute_result"
    }
   ],
   "source": [
    "#Delete the record, use delete_one() method. delete_one() requires a query parameter which specifies the document to delete.\n",
    "mycollection.delete_one({\"name\":\"Vivek\"})"
   ]
  },
  {
   "cell_type": "code",
   "execution_count": 25,
   "id": "cf19f843",
   "metadata": {
    "scrolled": true
   },
   "outputs": [
    {
     "name": "stdout",
     "output_type": "stream",
     "text": [
      "<pymongo.cursor.Cursor object at 0x000001FB6F2E2E90>\n",
      "{'_id': ObjectId('6352e7cc9e387cb09488509f'), 'Name': 'Vivek', 'Phone no': 9921900987, 'place': 'Goregaon'}\n",
      "{'_id': ObjectId('6352e7cc9e387cb0948850a0'), 'Name': 'Mangesh', 'Phone no': 9960606659, 'place': 'Chandwad'}\n",
      "{'_id': ObjectId('6352e7cc9e387cb0948850a2'), 'Name': 'Vishakha', 'Phone no': 7972389767, 'place': 'Nashik'}\n",
      "{'_id': ObjectId('6352e7cc9e387cb0948850a3'), 'Name': 'Sachin', 'Phone no': 7507228012, 'place': 'Malegaon'}\n"
     ]
    }
   ],
   "source": [
    "all_records = mycollection.find()\n",
    "print(all_records)\n",
    "for row in all_records:\n",
    "    print(row)"
   ]
  },
  {
   "cell_type": "code",
   "execution_count": 24,
   "id": "29eacfe3",
   "metadata": {},
   "outputs": [],
   "source": [
    "#Thank You"
   ]
  }
 ],
 "metadata": {
  "kernelspec": {
   "display_name": "Python 3 (ipykernel)",
   "language": "python",
   "name": "python3"
  },
  "language_info": {
   "codemirror_mode": {
    "name": "ipython",
    "version": 3
   },
   "file_extension": ".py",
   "mimetype": "text/x-python",
   "name": "python",
   "nbconvert_exporter": "python",
   "pygments_lexer": "ipython3",
   "version": "3.10.6"
  }
 },
 "nbformat": 4,
 "nbformat_minor": 5
}
